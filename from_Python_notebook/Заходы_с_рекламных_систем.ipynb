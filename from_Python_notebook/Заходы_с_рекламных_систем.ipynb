{
 "cells": [
  {
   "cell_type": "markdown",
   "id": "1ffb8f2c-92ac-4ea2-8006-98cb51529c71",
   "metadata": {},
   "source": [
    "# Сравнительный анализ по визитам заходов на сайт с яндекса и других поисковых систем, их доли"
   ]
  },
  {
   "cell_type": "markdown",
   "id": "cb40b7b6-48b0-4d5e-8f36-fa71282eacac",
   "metadata": {},
   "source": [
    "## Период: с 01.01.2023г. по 25.10.2023г."
   ]
  },
  {
   "cell_type": "code",
   "execution_count": 1,
   "id": "8f6d5876-8f33-49dc-8163-3beb1dc82a0e",
   "metadata": {},
   "outputs": [],
   "source": [
    "import pandas as pd"
   ]
  },
  {
   "cell_type": "code",
   "execution_count": 2,
   "id": "c8951d6b-2cce-4bb2-a488-6f10abb8ff71",
   "metadata": {},
   "outputs": [
    {
     "data": {
      "text/html": [
       "<div>\n",
       "<style scoped>\n",
       "    .dataframe tbody tr th:only-of-type {\n",
       "        vertical-align: middle;\n",
       "    }\n",
       "\n",
       "    .dataframe tbody tr th {\n",
       "        vertical-align: top;\n",
       "    }\n",
       "\n",
       "    .dataframe thead th {\n",
       "        text-align: right;\n",
       "    }\n",
       "</style>\n",
       "<table border=\"1\" class=\"dataframe\">\n",
       "  <thead>\n",
       "    <tr style=\"text-align: right;\">\n",
       "      <th></th>\n",
       "      <th>Период</th>\n",
       "      <th>Яндекс: Директ</th>\n",
       "      <th>Google Ads</th>\n",
       "      <th>Яндекс.Директ: Не определено</th>\n",
       "      <th>Другая реклама: определено по меткам</th>\n",
       "      <th>empty</th>\n",
       "    </tr>\n",
       "  </thead>\n",
       "  <tbody>\n",
       "    <tr>\n",
       "      <th>0</th>\n",
       "      <td>2023-01-01</td>\n",
       "      <td>4</td>\n",
       "      <td>1</td>\n",
       "      <td>0</td>\n",
       "      <td>0</td>\n",
       "      <td>NaN</td>\n",
       "    </tr>\n",
       "    <tr>\n",
       "      <th>1</th>\n",
       "      <td>2023-01-02</td>\n",
       "      <td>1</td>\n",
       "      <td>0</td>\n",
       "      <td>0</td>\n",
       "      <td>0</td>\n",
       "      <td>NaN</td>\n",
       "    </tr>\n",
       "    <tr>\n",
       "      <th>2</th>\n",
       "      <td>2023-01-03</td>\n",
       "      <td>52</td>\n",
       "      <td>20</td>\n",
       "      <td>1</td>\n",
       "      <td>0</td>\n",
       "      <td>NaN</td>\n",
       "    </tr>\n",
       "    <tr>\n",
       "      <th>3</th>\n",
       "      <td>2023-01-04</td>\n",
       "      <td>163</td>\n",
       "      <td>33</td>\n",
       "      <td>3</td>\n",
       "      <td>0</td>\n",
       "      <td>NaN</td>\n",
       "    </tr>\n",
       "    <tr>\n",
       "      <th>4</th>\n",
       "      <td>2023-01-05</td>\n",
       "      <td>120</td>\n",
       "      <td>39</td>\n",
       "      <td>1</td>\n",
       "      <td>0</td>\n",
       "      <td>NaN</td>\n",
       "    </tr>\n",
       "    <tr>\n",
       "      <th>...</th>\n",
       "      <td>...</td>\n",
       "      <td>...</td>\n",
       "      <td>...</td>\n",
       "      <td>...</td>\n",
       "      <td>...</td>\n",
       "      <td>...</td>\n",
       "    </tr>\n",
       "    <tr>\n",
       "      <th>293</th>\n",
       "      <td>2023-10-21</td>\n",
       "      <td>42</td>\n",
       "      <td>0</td>\n",
       "      <td>0</td>\n",
       "      <td>0</td>\n",
       "      <td>NaN</td>\n",
       "    </tr>\n",
       "    <tr>\n",
       "      <th>294</th>\n",
       "      <td>2023-10-22</td>\n",
       "      <td>31</td>\n",
       "      <td>0</td>\n",
       "      <td>0</td>\n",
       "      <td>0</td>\n",
       "      <td>NaN</td>\n",
       "    </tr>\n",
       "    <tr>\n",
       "      <th>295</th>\n",
       "      <td>2023-10-23</td>\n",
       "      <td>63</td>\n",
       "      <td>0</td>\n",
       "      <td>3</td>\n",
       "      <td>0</td>\n",
       "      <td>NaN</td>\n",
       "    </tr>\n",
       "    <tr>\n",
       "      <th>296</th>\n",
       "      <td>2023-10-24</td>\n",
       "      <td>67</td>\n",
       "      <td>0</td>\n",
       "      <td>0</td>\n",
       "      <td>0</td>\n",
       "      <td>NaN</td>\n",
       "    </tr>\n",
       "    <tr>\n",
       "      <th>297</th>\n",
       "      <td>2023-10-25</td>\n",
       "      <td>10</td>\n",
       "      <td>0</td>\n",
       "      <td>0</td>\n",
       "      <td>0</td>\n",
       "      <td>NaN</td>\n",
       "    </tr>\n",
       "  </tbody>\n",
       "</table>\n",
       "<p>298 rows × 6 columns</p>\n",
       "</div>"
      ],
      "text/plain": [
       "         Период  Яндекс: Директ  Google Ads  Яндекс.Директ: Не определено  \\\n",
       "0    2023-01-01               4           1                             0   \n",
       "1    2023-01-02               1           0                             0   \n",
       "2    2023-01-03              52          20                             1   \n",
       "3    2023-01-04             163          33                             3   \n",
       "4    2023-01-05             120          39                             1   \n",
       "..          ...             ...         ...                           ...   \n",
       "293  2023-10-21              42           0                             0   \n",
       "294  2023-10-22              31           0                             0   \n",
       "295  2023-10-23              63           0                             3   \n",
       "296  2023-10-24              67           0                             0   \n",
       "297  2023-10-25              10           0                             0   \n",
       "\n",
       "     Другая реклама: определено по меткам  empty  \n",
       "0                                       0    NaN  \n",
       "1                                       0    NaN  \n",
       "2                                       0    NaN  \n",
       "3                                       0    NaN  \n",
       "4                                       0    NaN  \n",
       "..                                    ...    ...  \n",
       "293                                     0    NaN  \n",
       "294                                     0    NaN  \n",
       "295                                     0    NaN  \n",
       "296                                     0    NaN  \n",
       "297                                     0    NaN  \n",
       "\n",
       "[298 rows x 6 columns]"
      ]
     },
     "execution_count": 2,
     "metadata": {},
     "output_type": "execute_result"
    }
   ],
   "source": [
    "df = pd.read_csv(r\"..\\data\\График_для_www.pan-stp.com-Рекламные_системы.csv\")\n",
    "df"
   ]
  },
  {
   "cell_type": "code",
   "execution_count": 3,
   "id": "5f3201d6-97a6-4c7b-8647-a915c11d2cd7",
   "metadata": {},
   "outputs": [],
   "source": [
    "import numpy as np"
   ]
  },
  {
   "cell_type": "code",
   "execution_count": 4,
   "id": "13942121-2fd1-4a3f-81a5-44f8b358b0a0",
   "metadata": {},
   "outputs": [],
   "source": [
    "df.drop('empty',axis=1,inplace=True )"
   ]
  },
  {
   "cell_type": "code",
   "execution_count": 5,
   "id": "0c75f69e-2d56-4ca8-a9ee-b593d8ee70e2",
   "metadata": {},
   "outputs": [
    {
     "data": {
      "text/html": [
       "<div>\n",
       "<style scoped>\n",
       "    .dataframe tbody tr th:only-of-type {\n",
       "        vertical-align: middle;\n",
       "    }\n",
       "\n",
       "    .dataframe tbody tr th {\n",
       "        vertical-align: top;\n",
       "    }\n",
       "\n",
       "    .dataframe thead th {\n",
       "        text-align: right;\n",
       "    }\n",
       "</style>\n",
       "<table border=\"1\" class=\"dataframe\">\n",
       "  <thead>\n",
       "    <tr style=\"text-align: right;\">\n",
       "      <th></th>\n",
       "      <th>Период</th>\n",
       "      <th>Яндекс: Директ</th>\n",
       "      <th>Google Ads</th>\n",
       "      <th>Яндекс.Директ: Не определено</th>\n",
       "      <th>Другая реклама: определено по меткам</th>\n",
       "    </tr>\n",
       "  </thead>\n",
       "  <tbody>\n",
       "    <tr>\n",
       "      <th>0</th>\n",
       "      <td>2023-01-01</td>\n",
       "      <td>4</td>\n",
       "      <td>1</td>\n",
       "      <td>0</td>\n",
       "      <td>0</td>\n",
       "    </tr>\n",
       "    <tr>\n",
       "      <th>1</th>\n",
       "      <td>2023-01-02</td>\n",
       "      <td>1</td>\n",
       "      <td>0</td>\n",
       "      <td>0</td>\n",
       "      <td>0</td>\n",
       "    </tr>\n",
       "    <tr>\n",
       "      <th>2</th>\n",
       "      <td>2023-01-03</td>\n",
       "      <td>52</td>\n",
       "      <td>20</td>\n",
       "      <td>1</td>\n",
       "      <td>0</td>\n",
       "    </tr>\n",
       "    <tr>\n",
       "      <th>3</th>\n",
       "      <td>2023-01-04</td>\n",
       "      <td>163</td>\n",
       "      <td>33</td>\n",
       "      <td>3</td>\n",
       "      <td>0</td>\n",
       "    </tr>\n",
       "    <tr>\n",
       "      <th>4</th>\n",
       "      <td>2023-01-05</td>\n",
       "      <td>120</td>\n",
       "      <td>39</td>\n",
       "      <td>1</td>\n",
       "      <td>0</td>\n",
       "    </tr>\n",
       "    <tr>\n",
       "      <th>...</th>\n",
       "      <td>...</td>\n",
       "      <td>...</td>\n",
       "      <td>...</td>\n",
       "      <td>...</td>\n",
       "      <td>...</td>\n",
       "    </tr>\n",
       "    <tr>\n",
       "      <th>293</th>\n",
       "      <td>2023-10-21</td>\n",
       "      <td>42</td>\n",
       "      <td>0</td>\n",
       "      <td>0</td>\n",
       "      <td>0</td>\n",
       "    </tr>\n",
       "    <tr>\n",
       "      <th>294</th>\n",
       "      <td>2023-10-22</td>\n",
       "      <td>31</td>\n",
       "      <td>0</td>\n",
       "      <td>0</td>\n",
       "      <td>0</td>\n",
       "    </tr>\n",
       "    <tr>\n",
       "      <th>295</th>\n",
       "      <td>2023-10-23</td>\n",
       "      <td>63</td>\n",
       "      <td>0</td>\n",
       "      <td>3</td>\n",
       "      <td>0</td>\n",
       "    </tr>\n",
       "    <tr>\n",
       "      <th>296</th>\n",
       "      <td>2023-10-24</td>\n",
       "      <td>67</td>\n",
       "      <td>0</td>\n",
       "      <td>0</td>\n",
       "      <td>0</td>\n",
       "    </tr>\n",
       "    <tr>\n",
       "      <th>297</th>\n",
       "      <td>2023-10-25</td>\n",
       "      <td>10</td>\n",
       "      <td>0</td>\n",
       "      <td>0</td>\n",
       "      <td>0</td>\n",
       "    </tr>\n",
       "  </tbody>\n",
       "</table>\n",
       "<p>298 rows × 5 columns</p>\n",
       "</div>"
      ],
      "text/plain": [
       "         Период  Яндекс: Директ  Google Ads  Яндекс.Директ: Не определено  \\\n",
       "0    2023-01-01               4           1                             0   \n",
       "1    2023-01-02               1           0                             0   \n",
       "2    2023-01-03              52          20                             1   \n",
       "3    2023-01-04             163          33                             3   \n",
       "4    2023-01-05             120          39                             1   \n",
       "..          ...             ...         ...                           ...   \n",
       "293  2023-10-21              42           0                             0   \n",
       "294  2023-10-22              31           0                             0   \n",
       "295  2023-10-23              63           0                             3   \n",
       "296  2023-10-24              67           0                             0   \n",
       "297  2023-10-25              10           0                             0   \n",
       "\n",
       "     Другая реклама: определено по меткам  \n",
       "0                                       0  \n",
       "1                                       0  \n",
       "2                                       0  \n",
       "3                                       0  \n",
       "4                                       0  \n",
       "..                                    ...  \n",
       "293                                     0  \n",
       "294                                     0  \n",
       "295                                     0  \n",
       "296                                     0  \n",
       "297                                     0  \n",
       "\n",
       "[298 rows x 5 columns]"
      ]
     },
     "execution_count": 5,
     "metadata": {},
     "output_type": "execute_result"
    }
   ],
   "source": [
    "df"
   ]
  },
  {
   "cell_type": "code",
   "execution_count": 6,
   "id": "c5084fc5-75c7-46e2-81da-c87d7ea45eed",
   "metadata": {},
   "outputs": [],
   "source": [
    "df[\"Период\"] = pd.to_datetime(df[\"Период\"])"
   ]
  },
  {
   "cell_type": "code",
   "execution_count": 7,
   "id": "b2bd2a5e-cc12-42a9-819a-4e72a86246a1",
   "metadata": {},
   "outputs": [
    {
     "data": {
      "text/plain": [
       "Период                                  datetime64[ns]\n",
       "Яндекс: Директ                                   int64\n",
       "Google Ads                                       int64\n",
       "Яндекс.Директ: Не определено                     int64\n",
       "Другая реклама: определено по меткам             int64\n",
       "dtype: object"
      ]
     },
     "execution_count": 7,
     "metadata": {},
     "output_type": "execute_result"
    }
   ],
   "source": [
    "df.dtypes"
   ]
  },
  {
   "cell_type": "code",
   "execution_count": 8,
   "id": "e3938a72-c324-40c6-a30a-32b930989dcf",
   "metadata": {},
   "outputs": [],
   "source": [
    "df.index = df[\"Период\"]\n",
    "df.drop([\"Период\"], axis=1, inplace=True)"
   ]
  },
  {
   "cell_type": "code",
   "execution_count": 9,
   "id": "946f7ab8-67d2-4447-82a2-f0f795de61cc",
   "metadata": {},
   "outputs": [
    {
     "data": {
      "text/html": [
       "<div>\n",
       "<style scoped>\n",
       "    .dataframe tbody tr th:only-of-type {\n",
       "        vertical-align: middle;\n",
       "    }\n",
       "\n",
       "    .dataframe tbody tr th {\n",
       "        vertical-align: top;\n",
       "    }\n",
       "\n",
       "    .dataframe thead th {\n",
       "        text-align: right;\n",
       "    }\n",
       "</style>\n",
       "<table border=\"1\" class=\"dataframe\">\n",
       "  <thead>\n",
       "    <tr style=\"text-align: right;\">\n",
       "      <th></th>\n",
       "      <th>Яндекс: Директ</th>\n",
       "      <th>Google Ads</th>\n",
       "      <th>Яндекс.Директ: Не определено</th>\n",
       "      <th>Другая реклама: определено по меткам</th>\n",
       "    </tr>\n",
       "    <tr>\n",
       "      <th>Период</th>\n",
       "      <th></th>\n",
       "      <th></th>\n",
       "      <th></th>\n",
       "      <th></th>\n",
       "    </tr>\n",
       "  </thead>\n",
       "  <tbody>\n",
       "    <tr>\n",
       "      <th>2023-01-01</th>\n",
       "      <td>4</td>\n",
       "      <td>1</td>\n",
       "      <td>0</td>\n",
       "      <td>0</td>\n",
       "    </tr>\n",
       "    <tr>\n",
       "      <th>2023-01-02</th>\n",
       "      <td>1</td>\n",
       "      <td>0</td>\n",
       "      <td>0</td>\n",
       "      <td>0</td>\n",
       "    </tr>\n",
       "    <tr>\n",
       "      <th>2023-01-03</th>\n",
       "      <td>52</td>\n",
       "      <td>20</td>\n",
       "      <td>1</td>\n",
       "      <td>0</td>\n",
       "    </tr>\n",
       "    <tr>\n",
       "      <th>2023-01-04</th>\n",
       "      <td>163</td>\n",
       "      <td>33</td>\n",
       "      <td>3</td>\n",
       "      <td>0</td>\n",
       "    </tr>\n",
       "    <tr>\n",
       "      <th>2023-01-05</th>\n",
       "      <td>120</td>\n",
       "      <td>39</td>\n",
       "      <td>1</td>\n",
       "      <td>0</td>\n",
       "    </tr>\n",
       "    <tr>\n",
       "      <th>...</th>\n",
       "      <td>...</td>\n",
       "      <td>...</td>\n",
       "      <td>...</td>\n",
       "      <td>...</td>\n",
       "    </tr>\n",
       "    <tr>\n",
       "      <th>2023-10-21</th>\n",
       "      <td>42</td>\n",
       "      <td>0</td>\n",
       "      <td>0</td>\n",
       "      <td>0</td>\n",
       "    </tr>\n",
       "    <tr>\n",
       "      <th>2023-10-22</th>\n",
       "      <td>31</td>\n",
       "      <td>0</td>\n",
       "      <td>0</td>\n",
       "      <td>0</td>\n",
       "    </tr>\n",
       "    <tr>\n",
       "      <th>2023-10-23</th>\n",
       "      <td>63</td>\n",
       "      <td>0</td>\n",
       "      <td>3</td>\n",
       "      <td>0</td>\n",
       "    </tr>\n",
       "    <tr>\n",
       "      <th>2023-10-24</th>\n",
       "      <td>67</td>\n",
       "      <td>0</td>\n",
       "      <td>0</td>\n",
       "      <td>0</td>\n",
       "    </tr>\n",
       "    <tr>\n",
       "      <th>2023-10-25</th>\n",
       "      <td>10</td>\n",
       "      <td>0</td>\n",
       "      <td>0</td>\n",
       "      <td>0</td>\n",
       "    </tr>\n",
       "  </tbody>\n",
       "</table>\n",
       "<p>298 rows × 4 columns</p>\n",
       "</div>"
      ],
      "text/plain": [
       "            Яндекс: Директ  Google Ads  Яндекс.Директ: Не определено  \\\n",
       "Период                                                                 \n",
       "2023-01-01               4           1                             0   \n",
       "2023-01-02               1           0                             0   \n",
       "2023-01-03              52          20                             1   \n",
       "2023-01-04             163          33                             3   \n",
       "2023-01-05             120          39                             1   \n",
       "...                    ...         ...                           ...   \n",
       "2023-10-21              42           0                             0   \n",
       "2023-10-22              31           0                             0   \n",
       "2023-10-23              63           0                             3   \n",
       "2023-10-24              67           0                             0   \n",
       "2023-10-25              10           0                             0   \n",
       "\n",
       "            Другая реклама: определено по меткам  \n",
       "Период                                            \n",
       "2023-01-01                                     0  \n",
       "2023-01-02                                     0  \n",
       "2023-01-03                                     0  \n",
       "2023-01-04                                     0  \n",
       "2023-01-05                                     0  \n",
       "...                                          ...  \n",
       "2023-10-21                                     0  \n",
       "2023-10-22                                     0  \n",
       "2023-10-23                                     0  \n",
       "2023-10-24                                     0  \n",
       "2023-10-25                                     0  \n",
       "\n",
       "[298 rows x 4 columns]"
      ]
     },
     "execution_count": 9,
     "metadata": {},
     "output_type": "execute_result"
    }
   ],
   "source": [
    "df"
   ]
  },
  {
   "cell_type": "code",
   "execution_count": 10,
   "id": "6737f68d-19fa-4f99-983e-4c9549e362dd",
   "metadata": {},
   "outputs": [
    {
     "data": {
      "image/png": "[encoded data removed]",
      "text/plain": [
       "<Figure size 640x480 with 1 Axes>"
      ]
     },
     "metadata": {},
     "output_type": "display_data"
    }
   ],
   "source": [
    "df.plot.hist(column=['Яндекс: Директ','Google Ads']);"
   ]
  },
  {
   "cell_type": "code",
   "execution_count": 11,
   "id": "2e7882a1-9adc-4754-9ac5-102149ec997e",
   "metadata": {},
   "outputs": [
    {
     "data": {
      "text/html": [
       "<div>\n",
       "<style scoped>\n",
       "    .dataframe tbody tr th:only-of-type {\n",
       "        vertical-align: middle;\n",
       "    }\n",
       "\n",
       "    .dataframe tbody tr th {\n",
       "        vertical-align: top;\n",
       "    }\n",
       "\n",
       "    .dataframe thead th {\n",
       "        text-align: right;\n",
       "    }\n",
       "</style>\n",
       "<table border=\"1\" class=\"dataframe\">\n",
       "  <thead>\n",
       "    <tr style=\"text-align: right;\">\n",
       "      <th></th>\n",
       "      <th>Яндекс: Директ</th>\n",
       "      <th>Google Ads</th>\n",
       "      <th>Яндекс.Директ: Не определено</th>\n",
       "      <th>Другая реклама: определено по меткам</th>\n",
       "    </tr>\n",
       "  </thead>\n",
       "  <tbody>\n",
       "    <tr>\n",
       "      <th>mean</th>\n",
       "      <td>58.647651</td>\n",
       "      <td>1.624161</td>\n",
       "      <td>0.520134</td>\n",
       "      <td>0.083893</td>\n",
       "    </tr>\n",
       "  </tbody>\n",
       "</table>\n",
       "</div>"
      ],
      "text/plain": [
       "      Яндекс: Директ  Google Ads  Яндекс.Директ: Не определено  \\\n",
       "mean       58.647651    1.624161                      0.520134   \n",
       "\n",
       "      Другая реклама: определено по меткам  \n",
       "mean                              0.083893  "
      ]
     },
     "execution_count": 11,
     "metadata": {},
     "output_type": "execute_result"
    }
   ],
   "source": [
    "df.agg(['mean'])"
   ]
  },
  {
   "cell_type": "code",
   "execution_count": 12,
   "id": "189a3b46-f7f3-452d-9855-4aefaf4cbc98",
   "metadata": {},
   "outputs": [
    {
     "data": {
      "text/html": [
       "<div>\n",
       "<style scoped>\n",
       "    .dataframe tbody tr th:only-of-type {\n",
       "        vertical-align: middle;\n",
       "    }\n",
       "\n",
       "    .dataframe tbody tr th {\n",
       "        vertical-align: top;\n",
       "    }\n",
       "\n",
       "    .dataframe thead th {\n",
       "        text-align: right;\n",
       "    }\n",
       "</style>\n",
       "<table border=\"1\" class=\"dataframe\">\n",
       "  <thead>\n",
       "    <tr style=\"text-align: right;\">\n",
       "      <th></th>\n",
       "      <th>Яндекс: Директ</th>\n",
       "      <th>Google Ads</th>\n",
       "      <th>Яндекс.Директ: Не определено</th>\n",
       "      <th>Другая реклама: определено по меткам</th>\n",
       "    </tr>\n",
       "  </thead>\n",
       "  <tbody>\n",
       "    <tr>\n",
       "      <th>sum</th>\n",
       "      <td>17477</td>\n",
       "      <td>484</td>\n",
       "      <td>155</td>\n",
       "      <td>25</td>\n",
       "    </tr>\n",
       "  </tbody>\n",
       "</table>\n",
       "</div>"
      ],
      "text/plain": [
       "     Яндекс: Директ  Google Ads  Яндекс.Директ: Не определено  \\\n",
       "sum           17477         484                           155   \n",
       "\n",
       "     Другая реклама: определено по меткам  \n",
       "sum                                    25  "
      ]
     },
     "execution_count": 12,
     "metadata": {},
     "output_type": "execute_result"
    }
   ],
   "source": [
    "df_sum = df.agg(['sum'])\n",
    "df_sum"
   ]
  },
  {
   "cell_type": "code",
   "execution_count": 13,
   "id": "2e7a44bc-3078-4123-8259-04f5585263b4",
   "metadata": {},
   "outputs": [
    {
     "data": {
      "text/plain": [
       "Яндекс: Директ    17477.000000\n",
       "Google Ads            1.624161\n",
       "dtype: float64"
      ]
     },
     "execution_count": 13,
     "metadata": {},
     "output_type": "execute_result"
    }
   ],
   "source": [
    "df.agg({'Яндекс: Директ':'sum', 'Google Ads': 'mean'}) ##просто пример"
   ]
  },
  {
   "cell_type": "code",
   "execution_count": 14,
   "id": "74ab14bb-c510-4f14-83da-8e484440c6b5",
   "metadata": {},
   "outputs": [
    {
     "data": {
      "text/html": [
       "<div>\n",
       "<style scoped>\n",
       "    .dataframe tbody tr th:only-of-type {\n",
       "        vertical-align: middle;\n",
       "    }\n",
       "\n",
       "    .dataframe tbody tr th {\n",
       "        vertical-align: top;\n",
       "    }\n",
       "\n",
       "    .dataframe thead th {\n",
       "        text-align: right;\n",
       "    }\n",
       "</style>\n",
       "<table border=\"1\" class=\"dataframe\">\n",
       "  <thead>\n",
       "    <tr style=\"text-align: right;\">\n",
       "      <th></th>\n",
       "      <th>Google Ads</th>\n",
       "      <th>Яндекс.Директ: Не определено</th>\n",
       "      <th>Другая реклама: определено по меткам</th>\n",
       "    </tr>\n",
       "  </thead>\n",
       "  <tbody>\n",
       "    <tr>\n",
       "      <th>sum</th>\n",
       "      <td>484</td>\n",
       "      <td>155</td>\n",
       "      <td>25</td>\n",
       "    </tr>\n",
       "  </tbody>\n",
       "</table>\n",
       "</div>"
      ],
      "text/plain": [
       "     Google Ads  Яндекс.Директ: Не определено  \\\n",
       "sum         484                           155   \n",
       "\n",
       "     Другая реклама: определено по меткам  \n",
       "sum                                    25  "
      ]
     },
     "execution_count": 14,
     "metadata": {},
     "output_type": "execute_result"
    }
   ],
   "source": [
    "df_sum.iloc[:,-3:]"
   ]
  },
  {
   "cell_type": "code",
   "execution_count": 15,
   "id": "42d1f3a7-9466-48e9-99d7-d125a9a24835",
   "metadata": {},
   "outputs": [
    {
     "data": {
      "text/plain": [
       "sum    664\n",
       "dtype: int64"
      ]
     },
     "execution_count": 15,
     "metadata": {},
     "output_type": "execute_result"
    }
   ],
   "source": [
    "df_sum.iloc[:,-3:].sum(axis=1)"
   ]
  },
  {
   "cell_type": "code",
   "execution_count": 16,
   "id": "e869fc10-499f-438d-9a64-2f2086eba351",
   "metadata": {},
   "outputs": [
    {
     "data": {
      "text/plain": [
       "664"
      ]
     },
     "execution_count": 16,
     "metadata": {},
     "output_type": "execute_result"
    }
   ],
   "source": [
    "df_sum.iloc[:,-3:].sum(axis=1)['sum']"
   ]
  },
  {
   "cell_type": "code",
   "execution_count": 17,
   "id": "724fa078-d751-4577-8cc0-07bf0ef43f21",
   "metadata": {},
   "outputs": [
    {
     "data": {
      "text/html": [
       "<div>\n",
       "<style scoped>\n",
       "    .dataframe tbody tr th:only-of-type {\n",
       "        vertical-align: middle;\n",
       "    }\n",
       "\n",
       "    .dataframe tbody tr th {\n",
       "        vertical-align: top;\n",
       "    }\n",
       "\n",
       "    .dataframe thead th {\n",
       "        text-align: right;\n",
       "    }\n",
       "</style>\n",
       "<table border=\"1\" class=\"dataframe\">\n",
       "  <thead>\n",
       "    <tr style=\"text-align: right;\">\n",
       "      <th></th>\n",
       "      <th>Яндекс: Директ</th>\n",
       "      <th>Google Ads</th>\n",
       "      <th>Яндекс.Директ: Не определено</th>\n",
       "      <th>Другая реклама: определено по меткам</th>\n",
       "      <th>остальные</th>\n",
       "    </tr>\n",
       "  </thead>\n",
       "  <tbody>\n",
       "    <tr>\n",
       "      <th>sum</th>\n",
       "      <td>17477</td>\n",
       "      <td>484</td>\n",
       "      <td>155</td>\n",
       "      <td>25</td>\n",
       "      <td>664</td>\n",
       "    </tr>\n",
       "  </tbody>\n",
       "</table>\n",
       "</div>"
      ],
      "text/plain": [
       "     Яндекс: Директ  Google Ads  Яндекс.Директ: Не определено  \\\n",
       "sum           17477         484                           155   \n",
       "\n",
       "     Другая реклама: определено по меткам  остальные  \n",
       "sum                                    25        664  "
      ]
     },
     "execution_count": 17,
     "metadata": {},
     "output_type": "execute_result"
    }
   ],
   "source": [
    "df_sum['остальные'] = df_sum.iloc[:,-3:].sum(axis=1)['sum']\n",
    "df_sum"
   ]
  },
  {
   "cell_type": "code",
   "execution_count": 18,
   "id": "7d1a6363-a2a0-4829-8257-c6309b14726c",
   "metadata": {},
   "outputs": [
    {
     "data": {
      "text/html": [
       "<div>\n",
       "<style scoped>\n",
       "    .dataframe tbody tr th:only-of-type {\n",
       "        vertical-align: middle;\n",
       "    }\n",
       "\n",
       "    .dataframe tbody tr th {\n",
       "        vertical-align: top;\n",
       "    }\n",
       "\n",
       "    .dataframe thead th {\n",
       "        text-align: right;\n",
       "    }\n",
       "</style>\n",
       "<table border=\"1\" class=\"dataframe\">\n",
       "  <thead>\n",
       "    <tr style=\"text-align: right;\">\n",
       "      <th></th>\n",
       "      <th>sum</th>\n",
       "    </tr>\n",
       "  </thead>\n",
       "  <tbody>\n",
       "    <tr>\n",
       "      <th>Яндекс: Директ</th>\n",
       "      <td>17477</td>\n",
       "    </tr>\n",
       "    <tr>\n",
       "      <th>Google Ads</th>\n",
       "      <td>484</td>\n",
       "    </tr>\n",
       "    <tr>\n",
       "      <th>Яндекс.Директ: Не определено</th>\n",
       "      <td>155</td>\n",
       "    </tr>\n",
       "    <tr>\n",
       "      <th>Другая реклама: определено по меткам</th>\n",
       "      <td>25</td>\n",
       "    </tr>\n",
       "    <tr>\n",
       "      <th>остальные</th>\n",
       "      <td>664</td>\n",
       "    </tr>\n",
       "  </tbody>\n",
       "</table>\n",
       "</div>"
      ],
      "text/plain": [
       "                                        sum\n",
       "Яндекс: Директ                        17477\n",
       "Google Ads                              484\n",
       "Яндекс.Директ: Не определено            155\n",
       "Другая реклама: определено по меткам     25\n",
       "остальные                               664"
      ]
     },
     "execution_count": 18,
     "metadata": {},
     "output_type": "execute_result"
    }
   ],
   "source": [
    "df_sum.T"
   ]
  },
  {
   "cell_type": "code",
   "execution_count": 19,
   "id": "54feef3c-26fe-4085-8c7c-3ffd00b5ed23",
   "metadata": {},
   "outputs": [
    {
     "data": {
      "text/plain": [
       "<Axes: >"
      ]
     },
     "execution_count": 19,
     "metadata": {},
     "output_type": "execute_result"
    },
    {
     "data": {
      "image/png": "[encoded data removed]",
      "text/plain": [
       "<Figure size 640x480 with 1 Axes>"
      ]
     },
     "metadata": {},
     "output_type": "display_data"
    }
   ],
   "source": [
    "df_sum.T.iloc[[0,-1]].plot.bar(y='sum')"
   ]
  },
  {
   "cell_type": "code",
   "execution_count": 20,
   "id": "ab0edbe2-80c2-405a-9511-a01db7b80098",
   "metadata": {},
   "outputs": [
    {
     "data": {
      "text/plain": [
       "<Axes: >"
      ]
     },
     "execution_count": 20,
     "metadata": {},
     "output_type": "execute_result"
    },
    {
     "data": {
      "image/png": "[encoded data removed]",
      "text/plain": [
       "<Figure size 640x480 with 1 Axes>"
      ]
     },
     "metadata": {},
     "output_type": "display_data"
    }
   ],
   "source": [
    "df_sum.T.iloc[1:-1].plot.bar(y='sum')"
   ]
  },
  {
   "cell_type": "code",
   "execution_count": 21,
   "id": "f7bc26ce-eba0-4bad-af02-cdab00a395b8",
   "metadata": {},
   "outputs": [
    {
     "data": {
      "text/plain": [
       "Index(['Яндекс: Директ', 'Google Ads', 'Яндекс.Директ: Не определено',\n",
       "       'Другая реклама: определено по меткам', 'остальные'],\n",
       "      dtype='object')"
      ]
     },
     "execution_count": 21,
     "metadata": {},
     "output_type": "execute_result"
    }
   ],
   "source": [
    "df_sum.columns"
   ]
  },
  {
   "cell_type": "code",
   "execution_count": 22,
   "id": "0e641167-85ed-490e-b322-b087c7333b30",
   "metadata": {},
   "outputs": [
    {
     "data": {
      "text/plain": [
       "18141"
      ]
     },
     "execution_count": 22,
     "metadata": {},
     "output_type": "execute_result"
    }
   ],
   "source": [
    "total_1 = df_sum[['Яндекс: Директ','остальные' ]].sum(axis=1)['sum']\n",
    "total_1"
   ]
  },
  {
   "cell_type": "code",
   "execution_count": 23,
   "id": "04d7835d-5b17-4f01-891f-bec300a03643",
   "metadata": {},
   "outputs": [
    {
     "data": {
      "text/html": [
       "<div>\n",
       "<style scoped>\n",
       "    .dataframe tbody tr th:only-of-type {\n",
       "        vertical-align: middle;\n",
       "    }\n",
       "\n",
       "    .dataframe tbody tr th {\n",
       "        vertical-align: top;\n",
       "    }\n",
       "\n",
       "    .dataframe thead th {\n",
       "        text-align: right;\n",
       "    }\n",
       "</style>\n",
       "<table border=\"1\" class=\"dataframe\">\n",
       "  <thead>\n",
       "    <tr style=\"text-align: right;\">\n",
       "      <th></th>\n",
       "      <th>Яндекс: Директ</th>\n",
       "      <th>Google Ads</th>\n",
       "      <th>Яндекс.Директ: Не определено</th>\n",
       "      <th>Другая реклама: определено по меткам</th>\n",
       "      <th>остальные</th>\n",
       "    </tr>\n",
       "  </thead>\n",
       "  <tbody>\n",
       "    <tr>\n",
       "      <th>sum</th>\n",
       "      <td>17477</td>\n",
       "      <td>484</td>\n",
       "      <td>155</td>\n",
       "      <td>25</td>\n",
       "      <td>664</td>\n",
       "    </tr>\n",
       "  </tbody>\n",
       "</table>\n",
       "</div>"
      ],
      "text/plain": [
       "     Яндекс: Директ  Google Ads  Яндекс.Директ: Не определено  \\\n",
       "sum           17477         484                           155   \n",
       "\n",
       "     Другая реклама: определено по меткам  остальные  \n",
       "sum                                    25        664  "
      ]
     },
     "execution_count": 23,
     "metadata": {},
     "output_type": "execute_result"
    }
   ],
   "source": [
    "df_sum"
   ]
  },
  {
   "cell_type": "code",
   "execution_count": 24,
   "id": "6fdb0857-79e7-4941-8a9b-1d203d08783a",
   "metadata": {},
   "outputs": [],
   "source": [
    "import matplotlib.pyplot as plt"
   ]
  },
  {
   "cell_type": "code",
   "execution_count": 25,
   "id": "e2feaeba-4c9d-4f86-b0a5-6870949c2299",
   "metadata": {},
   "outputs": [
    {
     "data": {
      "text/html": [
       "<div>\n",
       "<style scoped>\n",
       "    .dataframe tbody tr th:only-of-type {\n",
       "        vertical-align: middle;\n",
       "    }\n",
       "\n",
       "    .dataframe tbody tr th {\n",
       "        vertical-align: top;\n",
       "    }\n",
       "\n",
       "    .dataframe thead th {\n",
       "        text-align: right;\n",
       "    }\n",
       "</style>\n",
       "<table border=\"1\" class=\"dataframe\">\n",
       "  <thead>\n",
       "    <tr style=\"text-align: right;\">\n",
       "      <th></th>\n",
       "      <th>sum</th>\n",
       "    </tr>\n",
       "  </thead>\n",
       "  <tbody>\n",
       "    <tr>\n",
       "      <th>Яндекс: Директ</th>\n",
       "      <td>17477</td>\n",
       "    </tr>\n",
       "    <tr>\n",
       "      <th>остальные</th>\n",
       "      <td>664</td>\n",
       "    </tr>\n",
       "  </tbody>\n",
       "</table>\n",
       "</div>"
      ],
      "text/plain": [
       "                  sum\n",
       "Яндекс: Директ  17477\n",
       "остальные         664"
      ]
     },
     "execution_count": 25,
     "metadata": {},
     "output_type": "execute_result"
    }
   ],
   "source": [
    "count = df_sum.T.iloc[[0,-1],...]\n",
    "count"
   ]
  },
  {
   "cell_type": "code",
   "execution_count": 26,
   "id": "2d1191cb-b2e2-4e8c-ab6c-ce31aa64abb6",
   "metadata": {},
   "outputs": [
    {
     "data": {
      "image/png": "[encoded data removed]",
      "text/plain": [
       "<Figure size 640x480 with 1 Axes>"
      ]
     },
     "metadata": {},
     "output_type": "display_data"
    }
   ],
   "source": [
    "mycolors = [\"hotpink\",\"green\"]\n",
    "plt.pie(count['sum'], autopct=lambda x:f'{int(x)}%', labels=count.index, colors =  mycolors)\n",
    "plt.title('Сравнительный анализ по визитам за период с 01.01.2023г по 25.10.2023г.')\n",
    "plt.legend(title = 'Заходы на сайт с яндекса и других поисковых систем.', loc='upper left', bbox_to_anchor=(1.0, 1.0))\n",
    "plt.savefig('Заходы на сайт с яндекса и др.поисковых систем, их доли.jpg') \n",
    "plt.show()"
   ]
  },
  {
   "cell_type": "markdown",
   "id": "365054f8-3688-44da-bad8-31ce9765fd99",
   "metadata": {
    "jp-MarkdownHeadingCollapsed": true
   },
   "source": [
    "###  Заходы без Яндекса доли между остальными"
   ]
  },
  {
   "cell_type": "code",
   "execution_count": 27,
   "id": "8cadd98c-e2ce-4f3d-be4b-7b03dca8c97f",
   "metadata": {},
   "outputs": [
    {
     "data": {
      "text/plain": [
       "Index(['Яндекс: Директ', 'Google Ads', 'Яндекс.Директ: Не определено',\n",
       "       'Другая реклама: определено по меткам', 'остальные'],\n",
       "      dtype='object')"
      ]
     },
     "execution_count": 27,
     "metadata": {},
     "output_type": "execute_result"
    }
   ],
   "source": [
    "df_sum.columns"
   ]
  },
  {
   "cell_type": "code",
   "execution_count": 28,
   "id": "f2b71371-acb0-4fa4-947c-72d97f515442",
   "metadata": {},
   "outputs": [
    {
     "data": {
      "text/html": [
       "<div>\n",
       "<style scoped>\n",
       "    .dataframe tbody tr th:only-of-type {\n",
       "        vertical-align: middle;\n",
       "    }\n",
       "\n",
       "    .dataframe tbody tr th {\n",
       "        vertical-align: top;\n",
       "    }\n",
       "\n",
       "    .dataframe thead th {\n",
       "        text-align: right;\n",
       "    }\n",
       "</style>\n",
       "<table border=\"1\" class=\"dataframe\">\n",
       "  <thead>\n",
       "    <tr style=\"text-align: right;\">\n",
       "      <th></th>\n",
       "      <th>sum</th>\n",
       "    </tr>\n",
       "  </thead>\n",
       "  <tbody>\n",
       "    <tr>\n",
       "      <th>Google Ads</th>\n",
       "      <td>484</td>\n",
       "    </tr>\n",
       "    <tr>\n",
       "      <th>остальные</th>\n",
       "      <td>664</td>\n",
       "    </tr>\n",
       "  </tbody>\n",
       "</table>\n",
       "</div>"
      ],
      "text/plain": [
       "            sum\n",
       "Google Ads  484\n",
       "остальные   664"
      ]
     },
     "execution_count": 28,
     "metadata": {},
     "output_type": "execute_result"
    }
   ],
   "source": [
    "count_g= df_sum.T.iloc[[1,-1],...]\n",
    "count_g"
   ]
  },
  {
   "cell_type": "code",
   "execution_count": 29,
   "id": "24688793-d751-4f71-bf5d-2ff0bcbb4929",
   "metadata": {},
   "outputs": [
    {
     "data": {
      "image/png": "[encoded data removed]",
      "text/plain": [
       "<Figure size 640x480 with 1 Axes>"
      ]
     },
     "metadata": {},
     "output_type": "display_data"
    }
   ],
   "source": [
    "mycolors = [\"yellow\",\"green\"]\n",
    "plt.pie(count_g['sum'], autopct=lambda x:f'{int(x*10)/10}%', labels=count_g.index, colors =  mycolors)\n",
    "plt.title('Google. Сравнительный анализ по визитам за период с 01.01.2023г по 25.10.2023г.', color = \"purple\")\n",
    "plt.legend(title = 'Заходы на сайт с Google и других поисковых систем.', loc='upper left', bbox_to_anchor=(1.0, 1.0))\n",
    "plt.savefig('Заходы на сайт с гугла и др.поисковых систем, их доли.jpg') \n",
    "plt.show()"
   ]
  },
  {
   "cell_type": "code",
   "execution_count": 30,
   "id": "e994c6c4-f40b-4a13-bab0-d042f54346a1",
   "metadata": {},
   "outputs": [
    {
     "data": {
      "text/html": [
       "<div>\n",
       "<style scoped>\n",
       "    .dataframe tbody tr th:only-of-type {\n",
       "        vertical-align: middle;\n",
       "    }\n",
       "\n",
       "    .dataframe tbody tr th {\n",
       "        vertical-align: top;\n",
       "    }\n",
       "\n",
       "    .dataframe thead th {\n",
       "        text-align: right;\n",
       "    }\n",
       "</style>\n",
       "<table border=\"1\" class=\"dataframe\">\n",
       "  <thead>\n",
       "    <tr style=\"text-align: right;\">\n",
       "      <th></th>\n",
       "      <th>sum</th>\n",
       "    </tr>\n",
       "  </thead>\n",
       "  <tbody>\n",
       "    <tr>\n",
       "      <th>Яндекс.Директ: Не определено</th>\n",
       "      <td>155</td>\n",
       "    </tr>\n",
       "    <tr>\n",
       "      <th>остальные</th>\n",
       "      <td>664</td>\n",
       "    </tr>\n",
       "  </tbody>\n",
       "</table>\n",
       "</div>"
      ],
      "text/plain": [
       "                              sum\n",
       "Яндекс.Директ: Не определено  155\n",
       "остальные                     664"
      ]
     },
     "execution_count": 30,
     "metadata": {},
     "output_type": "execute_result"
    }
   ],
   "source": [
    "count_unknown_y= df_sum.T.iloc[[2,-1],...]\n",
    "count_unknown_y"
   ]
  },
  {
   "cell_type": "code",
   "execution_count": 31,
   "id": "d52c34dc-5aea-44b5-9f8d-031ed7ce7bf2",
   "metadata": {},
   "outputs": [
    {
     "data": {
      "image/png": "[encoded data removed]",
      "text/plain": [
       "<Figure size 640x480 with 1 Axes>"
      ]
     },
     "metadata": {},
     "output_type": "display_data"
    }
   ],
   "source": [
    "mycolors_y = ['olive', 'lavender']\n",
    "plt.pie(count_unknown_y['sum'], autopct=lambda x:f'{int(x*10)/10}%', labels=count_unknown_y.index, colors =  mycolors_y)\n",
    "plt.title('Яндекс.Директ: Не определено.' '' '' 'Сравнительный анализ по визитам без Яндекса за период с 01.01.2023г по 25.10.2023г.', color = \"navy\")\n",
    "plt.legend(title = 'Заходы на сайт с \"Яндекс.Директ: Не определено и других поисковых систем\". Без Яндекса', loc='upper left', bbox_to_anchor=(1.0, 1.0))\n",
    "plt.savefig('Заходы на сайт споисковых систем без Яндекса.jpg') \n",
    "plt.show()"
   ]
  },
  {
   "cell_type": "code",
   "execution_count": 32,
   "id": "67cbec81-c2da-4bdf-a31c-6474dfacf507",
   "metadata": {},
   "outputs": [
    {
     "data": {
      "text/html": [
       "<div>\n",
       "<style scoped>\n",
       "    .dataframe tbody tr th:only-of-type {\n",
       "        vertical-align: middle;\n",
       "    }\n",
       "\n",
       "    .dataframe tbody tr th {\n",
       "        vertical-align: top;\n",
       "    }\n",
       "\n",
       "    .dataframe thead th {\n",
       "        text-align: right;\n",
       "    }\n",
       "</style>\n",
       "<table border=\"1\" class=\"dataframe\">\n",
       "  <thead>\n",
       "    <tr style=\"text-align: right;\">\n",
       "      <th></th>\n",
       "      <th>sum</th>\n",
       "    </tr>\n",
       "  </thead>\n",
       "  <tbody>\n",
       "    <tr>\n",
       "      <th>Другая реклама: определено по меткам</th>\n",
       "      <td>25</td>\n",
       "    </tr>\n",
       "    <tr>\n",
       "      <th>остальные</th>\n",
       "      <td>664</td>\n",
       "    </tr>\n",
       "  </tbody>\n",
       "</table>\n",
       "</div>"
      ],
      "text/plain": [
       "                                      sum\n",
       "Другая реклама: определено по меткам   25\n",
       "остальные                             664"
      ]
     },
     "execution_count": 32,
     "metadata": {},
     "output_type": "execute_result"
    }
   ],
   "source": [
    "count_other_adds= df_sum.T.iloc[[3,-1],...]\n",
    "count_other_adds"
   ]
  },
  {
   "cell_type": "code",
   "execution_count": 33,
   "id": "25965764-6f25-456e-80ed-4a4cbc7ee561",
   "metadata": {},
   "outputs": [
    {
     "data": {
      "image/png": "[encoded data removed]",
      "text/plain": [
       "<Figure size 640x480 with 1 Axes>"
      ]
     },
     "metadata": {},
     "output_type": "display_data"
    }
   ],
   "source": [
    "mycolors_o = ['lime', 'aliceblue']\n",
    "plt.pie(count_other_adds['sum'], autopct=lambda x:f'{int(x*10)/10}%', labels=count_other_adds.index, colors =  mycolors_o)\n",
    "plt.title('Другая реклама: определено по меткам.' ' ' ' ' 'Сравнительный анализ по визитам без Яндекса за период с 01.01.2023г по 25.10.2023г.', color = \"brown\")\n",
    "plt.legend(title = 'Заходы на сайт с \"Другая реклама: определено по меткам\". Без Яндекса', loc='upper left', bbox_to_anchor=(1.0, 1.0))\n",
    "plt.savefig('Заходы на сайт c другой рекламы без Яндекса.jpg') \n",
    "plt.show()"
   ]
  },
  {
   "cell_type": "code",
   "execution_count": 34,
   "id": "c3478794-2855-4255-8e7a-e6238cdbfd8f",
   "metadata": {},
   "outputs": [
    {
     "data": {
      "text/html": [
       "<div>\n",
       "<style scoped>\n",
       "    .dataframe tbody tr th:only-of-type {\n",
       "        vertical-align: middle;\n",
       "    }\n",
       "\n",
       "    .dataframe tbody tr th {\n",
       "        vertical-align: top;\n",
       "    }\n",
       "\n",
       "    .dataframe thead th {\n",
       "        text-align: right;\n",
       "    }\n",
       "</style>\n",
       "<table border=\"1\" class=\"dataframe\">\n",
       "  <thead>\n",
       "    <tr style=\"text-align: right;\">\n",
       "      <th></th>\n",
       "      <th>sum</th>\n",
       "    </tr>\n",
       "  </thead>\n",
       "  <tbody>\n",
       "    <tr>\n",
       "      <th>Google Ads</th>\n",
       "      <td>484</td>\n",
       "    </tr>\n",
       "    <tr>\n",
       "      <th>Яндекс.Директ: Не определено</th>\n",
       "      <td>155</td>\n",
       "    </tr>\n",
       "    <tr>\n",
       "      <th>Другая реклама: определено по меткам</th>\n",
       "      <td>25</td>\n",
       "    </tr>\n",
       "  </tbody>\n",
       "</table>\n",
       "</div>"
      ],
      "text/plain": [
       "                                      sum\n",
       "Google Ads                            484\n",
       "Яндекс.Директ: Не определено          155\n",
       "Другая реклама: определено по меткам   25"
      ]
     },
     "execution_count": 34,
     "metadata": {},
     "output_type": "execute_result"
    }
   ],
   "source": [
    "count_all_others= df_sum.T.iloc[[1,2,3],...]\n",
    "count_all_others"
   ]
  },
  {
   "cell_type": "code",
   "execution_count": 35,
   "id": "f55a882c-4852-4839-8aee-8b9eb20e4ceb",
   "metadata": {},
   "outputs": [
    {
     "data": {
      "image/png": "[encoded data removed]",
      "text/plain": [
       "<Figure size 640x480 with 1 Axes>"
      ]
     },
     "metadata": {},
     "output_type": "display_data"
    }
   ],
   "source": [
    "mycolors_ = ['violet', 'aqua', 'darkorange']\n",
    "plt.pie(count_all_others['sum'], autopct=lambda x:f'{int(x*10)/10}%', labels=count_all_others.index, colors =  mycolors_)\n",
    "plt.title('Сравнительный анализ по визитам без Яндекса за период с 01.01.2023г по 25.10.2023г.', color = \"indigo\")\n",
    "plt.legend(title = 'Заходы на сайт с поисковых систем. Без Яндекса', loc='upper left', bbox_to_anchor=(1.0, 1.0))\n",
    "plt.savefig('Заходы на сайт споисковых систем без Яндекса.jpg') \n",
    "plt.show()"
   ]
  },
  {
   "cell_type": "code",
   "execution_count": 36,
   "id": "02f33b7a-5b55-4e8c-8554-264e7de0e04f",
   "metadata": {},
   "outputs": [
    {
     "data": {
      "image/png": "[encoded data removed]",
      "text/plain": [
       "<Figure size 640x480 with 1 Axes>"
      ]
     },
     "metadata": {},
     "output_type": "display_data"
    }
   ],
   "source": [
    "plt.pie(count_all_others['sum'], autopct=lambda x:f'{int(x*10)/10}%', labels=count_all_others.index)\n",
    "plt.title('Сравнительный анализ по визитам без Яндекса за период с 01.01.2023г по 25.10.2023г.', color = \"indigo\")\n",
    "plt.legend(title = 'Заходы на сайт с поисковых систем. Без Яндекса', loc='upper left', bbox_to_anchor=(1.0, 1.0))\n",
    "plt.savefig('Заходы на сайт споисковых систем без Яндекса.jpg') \n",
    "plt.show()"
   ]
  },
  {
   "cell_type": "markdown",
   "id": "56b9215a-3360-4507-8309-2c20fe4830d2",
   "metadata": {},
   "source": [
    "## Рекламные_системы_анализ_ c _2020г"
   ]
  },
  {
   "cell_type": "code",
   "execution_count": 37,
   "id": "83ddb17e-b8e3-4be3-bf7b-143055c40cf9",
   "metadata": {},
   "outputs": [
    {
     "data": {
      "text/html": [
       "<div>\n",
       "<style scoped>\n",
       "    .dataframe tbody tr th:only-of-type {\n",
       "        vertical-align: middle;\n",
       "    }\n",
       "\n",
       "    .dataframe tbody tr th {\n",
       "        vertical-align: top;\n",
       "    }\n",
       "\n",
       "    .dataframe thead th {\n",
       "        text-align: right;\n",
       "    }\n",
       "</style>\n",
       "<table border=\"1\" class=\"dataframe\">\n",
       "  <thead>\n",
       "    <tr style=\"text-align: right;\">\n",
       "      <th></th>\n",
       "      <th>Период</th>\n",
       "      <th>Google Ads</th>\n",
       "      <th>Яндекс: Директ</th>\n",
       "      <th>Яндекс.Директ: Не определено</th>\n",
       "      <th>Другая реклама: определено по меткам</th>\n",
       "      <th>nothing</th>\n",
       "    </tr>\n",
       "  </thead>\n",
       "  <tbody>\n",
       "    <tr>\n",
       "      <th>0</th>\n",
       "      <td>2020-01-01</td>\n",
       "      <td>83</td>\n",
       "      <td>0</td>\n",
       "      <td>0</td>\n",
       "      <td>0</td>\n",
       "      <td>NaN</td>\n",
       "    </tr>\n",
       "    <tr>\n",
       "      <th>1</th>\n",
       "      <td>2020-01-02</td>\n",
       "      <td>104</td>\n",
       "      <td>0</td>\n",
       "      <td>0</td>\n",
       "      <td>0</td>\n",
       "      <td>NaN</td>\n",
       "    </tr>\n",
       "    <tr>\n",
       "      <th>2</th>\n",
       "      <td>2020-01-03</td>\n",
       "      <td>98</td>\n",
       "      <td>0</td>\n",
       "      <td>0</td>\n",
       "      <td>0</td>\n",
       "      <td>NaN</td>\n",
       "    </tr>\n",
       "    <tr>\n",
       "      <th>3</th>\n",
       "      <td>2020-01-04</td>\n",
       "      <td>68</td>\n",
       "      <td>0</td>\n",
       "      <td>0</td>\n",
       "      <td>0</td>\n",
       "      <td>NaN</td>\n",
       "    </tr>\n",
       "    <tr>\n",
       "      <th>4</th>\n",
       "      <td>2020-01-05</td>\n",
       "      <td>67</td>\n",
       "      <td>0</td>\n",
       "      <td>0</td>\n",
       "      <td>0</td>\n",
       "      <td>NaN</td>\n",
       "    </tr>\n",
       "    <tr>\n",
       "      <th>...</th>\n",
       "      <td>...</td>\n",
       "      <td>...</td>\n",
       "      <td>...</td>\n",
       "      <td>...</td>\n",
       "      <td>...</td>\n",
       "      <td>...</td>\n",
       "    </tr>\n",
       "    <tr>\n",
       "      <th>1389</th>\n",
       "      <td>2023-10-21</td>\n",
       "      <td>0</td>\n",
       "      <td>40</td>\n",
       "      <td>0</td>\n",
       "      <td>0</td>\n",
       "      <td>NaN</td>\n",
       "    </tr>\n",
       "    <tr>\n",
       "      <th>1390</th>\n",
       "      <td>2023-10-22</td>\n",
       "      <td>0</td>\n",
       "      <td>31</td>\n",
       "      <td>0</td>\n",
       "      <td>0</td>\n",
       "      <td>NaN</td>\n",
       "    </tr>\n",
       "    <tr>\n",
       "      <th>1391</th>\n",
       "      <td>2023-10-23</td>\n",
       "      <td>0</td>\n",
       "      <td>57</td>\n",
       "      <td>2</td>\n",
       "      <td>0</td>\n",
       "      <td>NaN</td>\n",
       "    </tr>\n",
       "    <tr>\n",
       "      <th>1392</th>\n",
       "      <td>2023-10-24</td>\n",
       "      <td>0</td>\n",
       "      <td>60</td>\n",
       "      <td>0</td>\n",
       "      <td>0</td>\n",
       "      <td>NaN</td>\n",
       "    </tr>\n",
       "    <tr>\n",
       "      <th>1393</th>\n",
       "      <td>2023-10-25</td>\n",
       "      <td>0</td>\n",
       "      <td>41</td>\n",
       "      <td>1</td>\n",
       "      <td>0</td>\n",
       "      <td>NaN</td>\n",
       "    </tr>\n",
       "  </tbody>\n",
       "</table>\n",
       "<p>1394 rows × 6 columns</p>\n",
       "</div>"
      ],
      "text/plain": [
       "          Период  Google Ads  Яндекс: Директ  Яндекс.Директ: Не определено  \\\n",
       "0     2020-01-01          83               0                             0   \n",
       "1     2020-01-02         104               0                             0   \n",
       "2     2020-01-03          98               0                             0   \n",
       "3     2020-01-04          68               0                             0   \n",
       "4     2020-01-05          67               0                             0   \n",
       "...          ...         ...             ...                           ...   \n",
       "1389  2023-10-21           0              40                             0   \n",
       "1390  2023-10-22           0              31                             0   \n",
       "1391  2023-10-23           0              57                             2   \n",
       "1392  2023-10-24           0              60                             0   \n",
       "1393  2023-10-25           0              41                             1   \n",
       "\n",
       "      Другая реклама: определено по меткам  nothing  \n",
       "0                                        0      NaN  \n",
       "1                                        0      NaN  \n",
       "2                                        0      NaN  \n",
       "3                                        0      NaN  \n",
       "4                                        0      NaN  \n",
       "...                                    ...      ...  \n",
       "1389                                     0      NaN  \n",
       "1390                                     0      NaN  \n",
       "1391                                     0      NaN  \n",
       "1392                                     0      NaN  \n",
       "1393                                     0      NaN  \n",
       "\n",
       "[1394 rows x 6 columns]"
      ]
     },
     "execution_count": 37,
     "metadata": {},
     "output_type": "execute_result"
    }
   ],
   "source": [
    "df_20 = pd.read_csv(r\"..\\data\\График_для_www.pan-stp.com-Рекламные_системы_анализ_ c _2020г.csv\")\n",
    "df_20"
   ]
  },
  {
   "cell_type": "code",
   "execution_count": 38,
   "id": "12d6aea8-b55d-4f37-a9f6-9d57e780d93f",
   "metadata": {},
   "outputs": [],
   "source": [
    "df_20.drop('nothing',axis=1,inplace=True )"
   ]
  },
  {
   "cell_type": "code",
   "execution_count": 39,
   "id": "26751c1d-9598-456b-8659-10810651754a",
   "metadata": {},
   "outputs": [
    {
     "data": {
      "text/html": [
       "<div>\n",
       "<style scoped>\n",
       "    .dataframe tbody tr th:only-of-type {\n",
       "        vertical-align: middle;\n",
       "    }\n",
       "\n",
       "    .dataframe tbody tr th {\n",
       "        vertical-align: top;\n",
       "    }\n",
       "\n",
       "    .dataframe thead th {\n",
       "        text-align: right;\n",
       "    }\n",
       "</style>\n",
       "<table border=\"1\" class=\"dataframe\">\n",
       "  <thead>\n",
       "    <tr style=\"text-align: right;\">\n",
       "      <th></th>\n",
       "      <th>Период</th>\n",
       "      <th>Google Ads</th>\n",
       "      <th>Яндекс: Директ</th>\n",
       "      <th>Яндекс.Директ: Не определено</th>\n",
       "      <th>Другая реклама: определено по меткам</th>\n",
       "    </tr>\n",
       "  </thead>\n",
       "  <tbody>\n",
       "    <tr>\n",
       "      <th>0</th>\n",
       "      <td>2020-01-01</td>\n",
       "      <td>83</td>\n",
       "      <td>0</td>\n",
       "      <td>0</td>\n",
       "      <td>0</td>\n",
       "    </tr>\n",
       "    <tr>\n",
       "      <th>1</th>\n",
       "      <td>2020-01-02</td>\n",
       "      <td>104</td>\n",
       "      <td>0</td>\n",
       "      <td>0</td>\n",
       "      <td>0</td>\n",
       "    </tr>\n",
       "    <tr>\n",
       "      <th>2</th>\n",
       "      <td>2020-01-03</td>\n",
       "      <td>98</td>\n",
       "      <td>0</td>\n",
       "      <td>0</td>\n",
       "      <td>0</td>\n",
       "    </tr>\n",
       "    <tr>\n",
       "      <th>3</th>\n",
       "      <td>2020-01-04</td>\n",
       "      <td>68</td>\n",
       "      <td>0</td>\n",
       "      <td>0</td>\n",
       "      <td>0</td>\n",
       "    </tr>\n",
       "    <tr>\n",
       "      <th>4</th>\n",
       "      <td>2020-01-05</td>\n",
       "      <td>67</td>\n",
       "      <td>0</td>\n",
       "      <td>0</td>\n",
       "      <td>0</td>\n",
       "    </tr>\n",
       "    <tr>\n",
       "      <th>...</th>\n",
       "      <td>...</td>\n",
       "      <td>...</td>\n",
       "      <td>...</td>\n",
       "      <td>...</td>\n",
       "      <td>...</td>\n",
       "    </tr>\n",
       "    <tr>\n",
       "      <th>1389</th>\n",
       "      <td>2023-10-21</td>\n",
       "      <td>0</td>\n",
       "      <td>40</td>\n",
       "      <td>0</td>\n",
       "      <td>0</td>\n",
       "    </tr>\n",
       "    <tr>\n",
       "      <th>1390</th>\n",
       "      <td>2023-10-22</td>\n",
       "      <td>0</td>\n",
       "      <td>31</td>\n",
       "      <td>0</td>\n",
       "      <td>0</td>\n",
       "    </tr>\n",
       "    <tr>\n",
       "      <th>1391</th>\n",
       "      <td>2023-10-23</td>\n",
       "      <td>0</td>\n",
       "      <td>57</td>\n",
       "      <td>2</td>\n",
       "      <td>0</td>\n",
       "    </tr>\n",
       "    <tr>\n",
       "      <th>1392</th>\n",
       "      <td>2023-10-24</td>\n",
       "      <td>0</td>\n",
       "      <td>60</td>\n",
       "      <td>0</td>\n",
       "      <td>0</td>\n",
       "    </tr>\n",
       "    <tr>\n",
       "      <th>1393</th>\n",
       "      <td>2023-10-25</td>\n",
       "      <td>0</td>\n",
       "      <td>41</td>\n",
       "      <td>1</td>\n",
       "      <td>0</td>\n",
       "    </tr>\n",
       "  </tbody>\n",
       "</table>\n",
       "<p>1394 rows × 5 columns</p>\n",
       "</div>"
      ],
      "text/plain": [
       "          Период  Google Ads  Яндекс: Директ  Яндекс.Директ: Не определено  \\\n",
       "0     2020-01-01          83               0                             0   \n",
       "1     2020-01-02         104               0                             0   \n",
       "2     2020-01-03          98               0                             0   \n",
       "3     2020-01-04          68               0                             0   \n",
       "4     2020-01-05          67               0                             0   \n",
       "...          ...         ...             ...                           ...   \n",
       "1389  2023-10-21           0              40                             0   \n",
       "1390  2023-10-22           0              31                             0   \n",
       "1391  2023-10-23           0              57                             2   \n",
       "1392  2023-10-24           0              60                             0   \n",
       "1393  2023-10-25           0              41                             1   \n",
       "\n",
       "      Другая реклама: определено по меткам  \n",
       "0                                        0  \n",
       "1                                        0  \n",
       "2                                        0  \n",
       "3                                        0  \n",
       "4                                        0  \n",
       "...                                    ...  \n",
       "1389                                     0  \n",
       "1390                                     0  \n",
       "1391                                     0  \n",
       "1392                                     0  \n",
       "1393                                     0  \n",
       "\n",
       "[1394 rows x 5 columns]"
      ]
     },
     "execution_count": 39,
     "metadata": {},
     "output_type": "execute_result"
    }
   ],
   "source": [
    "df_20"
   ]
  },
  {
   "cell_type": "code",
   "execution_count": 40,
   "id": "fe5c2f4e-86d8-4e98-90ac-7b20e2f194e1",
   "metadata": {},
   "outputs": [
    {
     "data": {
      "text/plain": [
       "Период                                  datetime64[ns]\n",
       "Google Ads                                       int64\n",
       "Яндекс: Директ                                   int64\n",
       "Яндекс.Директ: Не определено                     int64\n",
       "Другая реклама: определено по меткам             int64\n",
       "dtype: object"
      ]
     },
     "execution_count": 40,
     "metadata": {},
     "output_type": "execute_result"
    }
   ],
   "source": [
    "df_20[\"Период\"] = pd.to_datetime(df_20[\"Период\"])\n",
    "df_20.dtypes"
   ]
  },
  {
   "cell_type": "code",
   "execution_count": 41,
   "id": "2bb48472-c270-4303-8933-8fb372b09908",
   "metadata": {},
   "outputs": [
    {
     "data": {
      "text/html": [
       "<div>\n",
       "<style scoped>\n",
       "    .dataframe tbody tr th:only-of-type {\n",
       "        vertical-align: middle;\n",
       "    }\n",
       "\n",
       "    .dataframe tbody tr th {\n",
       "        vertical-align: top;\n",
       "    }\n",
       "\n",
       "    .dataframe thead th {\n",
       "        text-align: right;\n",
       "    }\n",
       "</style>\n",
       "<table border=\"1\" class=\"dataframe\">\n",
       "  <thead>\n",
       "    <tr style=\"text-align: right;\">\n",
       "      <th></th>\n",
       "      <th>Период</th>\n",
       "      <th>Google Ads</th>\n",
       "      <th>Яндекс: Директ</th>\n",
       "      <th>Яндекс.Директ: Не определено</th>\n",
       "      <th>Другая реклама: определено по меткам</th>\n",
       "    </tr>\n",
       "  </thead>\n",
       "  <tbody>\n",
       "    <tr>\n",
       "      <th>0</th>\n",
       "      <td>2020-01-01</td>\n",
       "      <td>83</td>\n",
       "      <td>0</td>\n",
       "      <td>0</td>\n",
       "      <td>0</td>\n",
       "    </tr>\n",
       "    <tr>\n",
       "      <th>1</th>\n",
       "      <td>2020-01-02</td>\n",
       "      <td>104</td>\n",
       "      <td>0</td>\n",
       "      <td>0</td>\n",
       "      <td>0</td>\n",
       "    </tr>\n",
       "    <tr>\n",
       "      <th>2</th>\n",
       "      <td>2020-01-03</td>\n",
       "      <td>98</td>\n",
       "      <td>0</td>\n",
       "      <td>0</td>\n",
       "      <td>0</td>\n",
       "    </tr>\n",
       "    <tr>\n",
       "      <th>3</th>\n",
       "      <td>2020-01-04</td>\n",
       "      <td>68</td>\n",
       "      <td>0</td>\n",
       "      <td>0</td>\n",
       "      <td>0</td>\n",
       "    </tr>\n",
       "    <tr>\n",
       "      <th>4</th>\n",
       "      <td>2020-01-05</td>\n",
       "      <td>67</td>\n",
       "      <td>0</td>\n",
       "      <td>0</td>\n",
       "      <td>0</td>\n",
       "    </tr>\n",
       "    <tr>\n",
       "      <th>...</th>\n",
       "      <td>...</td>\n",
       "      <td>...</td>\n",
       "      <td>...</td>\n",
       "      <td>...</td>\n",
       "      <td>...</td>\n",
       "    </tr>\n",
       "    <tr>\n",
       "      <th>1389</th>\n",
       "      <td>2023-10-21</td>\n",
       "      <td>0</td>\n",
       "      <td>40</td>\n",
       "      <td>0</td>\n",
       "      <td>0</td>\n",
       "    </tr>\n",
       "    <tr>\n",
       "      <th>1390</th>\n",
       "      <td>2023-10-22</td>\n",
       "      <td>0</td>\n",
       "      <td>31</td>\n",
       "      <td>0</td>\n",
       "      <td>0</td>\n",
       "    </tr>\n",
       "    <tr>\n",
       "      <th>1391</th>\n",
       "      <td>2023-10-23</td>\n",
       "      <td>0</td>\n",
       "      <td>57</td>\n",
       "      <td>2</td>\n",
       "      <td>0</td>\n",
       "    </tr>\n",
       "    <tr>\n",
       "      <th>1392</th>\n",
       "      <td>2023-10-24</td>\n",
       "      <td>0</td>\n",
       "      <td>60</td>\n",
       "      <td>0</td>\n",
       "      <td>0</td>\n",
       "    </tr>\n",
       "    <tr>\n",
       "      <th>1393</th>\n",
       "      <td>2023-10-25</td>\n",
       "      <td>0</td>\n",
       "      <td>41</td>\n",
       "      <td>1</td>\n",
       "      <td>0</td>\n",
       "    </tr>\n",
       "  </tbody>\n",
       "</table>\n",
       "<p>1394 rows × 5 columns</p>\n",
       "</div>"
      ],
      "text/plain": [
       "         Период  Google Ads  Яндекс: Директ  Яндекс.Директ: Не определено  \\\n",
       "0    2020-01-01          83               0                             0   \n",
       "1    2020-01-02         104               0                             0   \n",
       "2    2020-01-03          98               0                             0   \n",
       "3    2020-01-04          68               0                             0   \n",
       "4    2020-01-05          67               0                             0   \n",
       "...         ...         ...             ...                           ...   \n",
       "1389 2023-10-21           0              40                             0   \n",
       "1390 2023-10-22           0              31                             0   \n",
       "1391 2023-10-23           0              57                             2   \n",
       "1392 2023-10-24           0              60                             0   \n",
       "1393 2023-10-25           0              41                             1   \n",
       "\n",
       "      Другая реклама: определено по меткам  \n",
       "0                                        0  \n",
       "1                                        0  \n",
       "2                                        0  \n",
       "3                                        0  \n",
       "4                                        0  \n",
       "...                                    ...  \n",
       "1389                                     0  \n",
       "1390                                     0  \n",
       "1391                                     0  \n",
       "1392                                     0  \n",
       "1393                                     0  \n",
       "\n",
       "[1394 rows x 5 columns]"
      ]
     },
     "execution_count": 41,
     "metadata": {},
     "output_type": "execute_result"
    }
   ],
   "source": [
    "df_20"
   ]
  },
  {
   "cell_type": "code",
   "execution_count": 42,
   "id": "c0a32ec6-b782-4559-8559-c3e6ff64c1d3",
   "metadata": {},
   "outputs": [],
   "source": [
    "df_20.index = df_20[\"Период\"]\n",
    "df_20.drop([\"Период\"], axis=1, inplace=True)"
   ]
  },
  {
   "cell_type": "code",
   "execution_count": 43,
   "id": "33feb062-16bf-44ab-ad09-456c48d410ad",
   "metadata": {},
   "outputs": [
    {
     "data": {
      "text/html": [
       "<div>\n",
       "<style scoped>\n",
       "    .dataframe tbody tr th:only-of-type {\n",
       "        vertical-align: middle;\n",
       "    }\n",
       "\n",
       "    .dataframe tbody tr th {\n",
       "        vertical-align: top;\n",
       "    }\n",
       "\n",
       "    .dataframe thead th {\n",
       "        text-align: right;\n",
       "    }\n",
       "</style>\n",
       "<table border=\"1\" class=\"dataframe\">\n",
       "  <thead>\n",
       "    <tr style=\"text-align: right;\">\n",
       "      <th></th>\n",
       "      <th>Google Ads</th>\n",
       "      <th>Яндекс: Директ</th>\n",
       "      <th>Яндекс.Директ: Не определено</th>\n",
       "      <th>Другая реклама: определено по меткам</th>\n",
       "    </tr>\n",
       "    <tr>\n",
       "      <th>Период</th>\n",
       "      <th></th>\n",
       "      <th></th>\n",
       "      <th></th>\n",
       "      <th></th>\n",
       "    </tr>\n",
       "  </thead>\n",
       "  <tbody>\n",
       "    <tr>\n",
       "      <th>2020-01-01</th>\n",
       "      <td>83</td>\n",
       "      <td>0</td>\n",
       "      <td>0</td>\n",
       "      <td>0</td>\n",
       "    </tr>\n",
       "    <tr>\n",
       "      <th>2020-01-02</th>\n",
       "      <td>104</td>\n",
       "      <td>0</td>\n",
       "      <td>0</td>\n",
       "      <td>0</td>\n",
       "    </tr>\n",
       "    <tr>\n",
       "      <th>2020-01-03</th>\n",
       "      <td>98</td>\n",
       "      <td>0</td>\n",
       "      <td>0</td>\n",
       "      <td>0</td>\n",
       "    </tr>\n",
       "    <tr>\n",
       "      <th>2020-01-04</th>\n",
       "      <td>68</td>\n",
       "      <td>0</td>\n",
       "      <td>0</td>\n",
       "      <td>0</td>\n",
       "    </tr>\n",
       "    <tr>\n",
       "      <th>2020-01-05</th>\n",
       "      <td>67</td>\n",
       "      <td>0</td>\n",
       "      <td>0</td>\n",
       "      <td>0</td>\n",
       "    </tr>\n",
       "    <tr>\n",
       "      <th>...</th>\n",
       "      <td>...</td>\n",
       "      <td>...</td>\n",
       "      <td>...</td>\n",
       "      <td>...</td>\n",
       "    </tr>\n",
       "    <tr>\n",
       "      <th>2023-10-21</th>\n",
       "      <td>0</td>\n",
       "      <td>40</td>\n",
       "      <td>0</td>\n",
       "      <td>0</td>\n",
       "    </tr>\n",
       "    <tr>\n",
       "      <th>2023-10-22</th>\n",
       "      <td>0</td>\n",
       "      <td>31</td>\n",
       "      <td>0</td>\n",
       "      <td>0</td>\n",
       "    </tr>\n",
       "    <tr>\n",
       "      <th>2023-10-23</th>\n",
       "      <td>0</td>\n",
       "      <td>57</td>\n",
       "      <td>2</td>\n",
       "      <td>0</td>\n",
       "    </tr>\n",
       "    <tr>\n",
       "      <th>2023-10-24</th>\n",
       "      <td>0</td>\n",
       "      <td>60</td>\n",
       "      <td>0</td>\n",
       "      <td>0</td>\n",
       "    </tr>\n",
       "    <tr>\n",
       "      <th>2023-10-25</th>\n",
       "      <td>0</td>\n",
       "      <td>41</td>\n",
       "      <td>1</td>\n",
       "      <td>0</td>\n",
       "    </tr>\n",
       "  </tbody>\n",
       "</table>\n",
       "<p>1394 rows × 4 columns</p>\n",
       "</div>"
      ],
      "text/plain": [
       "            Google Ads  Яндекс: Директ  Яндекс.Директ: Не определено  \\\n",
       "Период                                                                 \n",
       "2020-01-01          83               0                             0   \n",
       "2020-01-02         104               0                             0   \n",
       "2020-01-03          98               0                             0   \n",
       "2020-01-04          68               0                             0   \n",
       "2020-01-05          67               0                             0   \n",
       "...                ...             ...                           ...   \n",
       "2023-10-21           0              40                             0   \n",
       "2023-10-22           0              31                             0   \n",
       "2023-10-23           0              57                             2   \n",
       "2023-10-24           0              60                             0   \n",
       "2023-10-25           0              41                             1   \n",
       "\n",
       "            Другая реклама: определено по меткам  \n",
       "Период                                            \n",
       "2020-01-01                                     0  \n",
       "2020-01-02                                     0  \n",
       "2020-01-03                                     0  \n",
       "2020-01-04                                     0  \n",
       "2020-01-05                                     0  \n",
       "...                                          ...  \n",
       "2023-10-21                                     0  \n",
       "2023-10-22                                     0  \n",
       "2023-10-23                                     0  \n",
       "2023-10-24                                     0  \n",
       "2023-10-25                                     0  \n",
       "\n",
       "[1394 rows x 4 columns]"
      ]
     },
     "execution_count": 43,
     "metadata": {},
     "output_type": "execute_result"
    }
   ],
   "source": [
    "df_20"
   ]
  },
  {
   "cell_type": "code",
   "execution_count": 44,
   "id": "a4cb0a9f-e88e-4a21-8d27-f2d8cbedfa55",
   "metadata": {},
   "outputs": [
    {
     "data": {
      "image/png": "[encoded data removed]",
      "text/plain": [
       "<Figure size 640x480 with 1 Axes>"
      ]
     },
     "metadata": {},
     "output_type": "display_data"
    }
   ],
   "source": [
    "df_20.plot.hist(column=['Google Ads','Яндекс: Директ']);"
   ]
  },
  {
   "cell_type": "code",
   "execution_count": 45,
   "id": "93ed528c-3ca3-417f-96b4-302a40faf925",
   "metadata": {},
   "outputs": [
    {
     "data": {
      "text/html": [
       "<div>\n",
       "<style scoped>\n",
       "    .dataframe tbody tr th:only-of-type {\n",
       "        vertical-align: middle;\n",
       "    }\n",
       "\n",
       "    .dataframe tbody tr th {\n",
       "        vertical-align: top;\n",
       "    }\n",
       "\n",
       "    .dataframe thead th {\n",
       "        text-align: right;\n",
       "    }\n",
       "</style>\n",
       "<table border=\"1\" class=\"dataframe\">\n",
       "  <thead>\n",
       "    <tr style=\"text-align: right;\">\n",
       "      <th></th>\n",
       "      <th>Google Ads</th>\n",
       "      <th>Яндекс: Директ</th>\n",
       "      <th>Яндекс.Директ: Не определено</th>\n",
       "      <th>Другая реклама: определено по меткам</th>\n",
       "    </tr>\n",
       "  </thead>\n",
       "  <tbody>\n",
       "    <tr>\n",
       "      <th>mean</th>\n",
       "      <td>40.715208</td>\n",
       "      <td>15.230273</td>\n",
       "      <td>0.167145</td>\n",
       "      <td>0.018651</td>\n",
       "    </tr>\n",
       "  </tbody>\n",
       "</table>\n",
       "</div>"
      ],
      "text/plain": [
       "      Google Ads  Яндекс: Директ  Яндекс.Директ: Не определено  \\\n",
       "mean   40.715208       15.230273                      0.167145   \n",
       "\n",
       "      Другая реклама: определено по меткам  \n",
       "mean                              0.018651  "
      ]
     },
     "execution_count": 45,
     "metadata": {},
     "output_type": "execute_result"
    }
   ],
   "source": [
    "df_20.agg(['mean'])"
   ]
  },
  {
   "cell_type": "code",
   "execution_count": 46,
   "id": "124d8666-4c12-464b-960a-0c869afc2a70",
   "metadata": {},
   "outputs": [
    {
     "data": {
      "text/html": [
       "<div>\n",
       "<style scoped>\n",
       "    .dataframe tbody tr th:only-of-type {\n",
       "        vertical-align: middle;\n",
       "    }\n",
       "\n",
       "    .dataframe tbody tr th {\n",
       "        vertical-align: top;\n",
       "    }\n",
       "\n",
       "    .dataframe thead th {\n",
       "        text-align: right;\n",
       "    }\n",
       "</style>\n",
       "<table border=\"1\" class=\"dataframe\">\n",
       "  <thead>\n",
       "    <tr style=\"text-align: right;\">\n",
       "      <th></th>\n",
       "      <th>Google Ads</th>\n",
       "      <th>Яндекс: Директ</th>\n",
       "      <th>Яндекс.Директ: Не определено</th>\n",
       "      <th>Другая реклама: определено по меткам</th>\n",
       "    </tr>\n",
       "  </thead>\n",
       "  <tbody>\n",
       "    <tr>\n",
       "      <th>sum</th>\n",
       "      <td>56757</td>\n",
       "      <td>21231</td>\n",
       "      <td>233</td>\n",
       "      <td>26</td>\n",
       "    </tr>\n",
       "  </tbody>\n",
       "</table>\n",
       "</div>"
      ],
      "text/plain": [
       "     Google Ads  Яндекс: Директ  Яндекс.Директ: Не определено  \\\n",
       "sum       56757           21231                           233   \n",
       "\n",
       "     Другая реклама: определено по меткам  \n",
       "sum                                    26  "
      ]
     },
     "execution_count": 46,
     "metadata": {},
     "output_type": "execute_result"
    }
   ],
   "source": [
    "df_20_sum = df_20.agg(['sum'])\n",
    "df_20_sum"
   ]
  },
  {
   "cell_type": "code",
   "execution_count": 47,
   "id": "5bf2a3a2-cb74-4a4c-818d-3c16257fc16a",
   "metadata": {},
   "outputs": [
    {
     "data": {
      "text/html": [
       "<div>\n",
       "<style scoped>\n",
       "    .dataframe tbody tr th:only-of-type {\n",
       "        vertical-align: middle;\n",
       "    }\n",
       "\n",
       "    .dataframe tbody tr th {\n",
       "        vertical-align: top;\n",
       "    }\n",
       "\n",
       "    .dataframe thead th {\n",
       "        text-align: right;\n",
       "    }\n",
       "</style>\n",
       "<table border=\"1\" class=\"dataframe\">\n",
       "  <thead>\n",
       "    <tr style=\"text-align: right;\">\n",
       "      <th></th>\n",
       "      <th>sum</th>\n",
       "    </tr>\n",
       "  </thead>\n",
       "  <tbody>\n",
       "    <tr>\n",
       "      <th>Google Ads</th>\n",
       "      <td>56757</td>\n",
       "    </tr>\n",
       "    <tr>\n",
       "      <th>Яндекс: Директ</th>\n",
       "      <td>21231</td>\n",
       "    </tr>\n",
       "    <tr>\n",
       "      <th>Яндекс.Директ: Не определено</th>\n",
       "      <td>233</td>\n",
       "    </tr>\n",
       "    <tr>\n",
       "      <th>Другая реклама: определено по меткам</th>\n",
       "      <td>26</td>\n",
       "    </tr>\n",
       "  </tbody>\n",
       "</table>\n",
       "</div>"
      ],
      "text/plain": [
       "                                        sum\n",
       "Google Ads                            56757\n",
       "Яндекс: Директ                        21231\n",
       "Яндекс.Директ: Не определено            233\n",
       "Другая реклама: определено по меткам     26"
      ]
     },
     "execution_count": 47,
     "metadata": {},
     "output_type": "execute_result"
    }
   ],
   "source": [
    "df_20_sum.T"
   ]
  },
  {
   "cell_type": "code",
   "execution_count": 48,
   "id": "21f596b6-87d8-4de2-8bcf-01815c2cae03",
   "metadata": {},
   "outputs": [
    {
     "data": {
      "text/html": [
       "<div>\n",
       "<style scoped>\n",
       "    .dataframe tbody tr th:only-of-type {\n",
       "        vertical-align: middle;\n",
       "    }\n",
       "\n",
       "    .dataframe tbody tr th {\n",
       "        vertical-align: top;\n",
       "    }\n",
       "\n",
       "    .dataframe thead th {\n",
       "        text-align: right;\n",
       "    }\n",
       "</style>\n",
       "<table border=\"1\" class=\"dataframe\">\n",
       "  <thead>\n",
       "    <tr style=\"text-align: right;\">\n",
       "      <th></th>\n",
       "      <th>Яндекс.Директ: Не определено</th>\n",
       "      <th>Другая реклама: определено по меткам</th>\n",
       "    </tr>\n",
       "  </thead>\n",
       "  <tbody>\n",
       "    <tr>\n",
       "      <th>sum</th>\n",
       "      <td>233</td>\n",
       "      <td>26</td>\n",
       "    </tr>\n",
       "  </tbody>\n",
       "</table>\n",
       "</div>"
      ],
      "text/plain": [
       "     Яндекс.Директ: Не определено  Другая реклама: определено по меткам\n",
       "sum                           233                                    26"
      ]
     },
     "execution_count": 48,
     "metadata": {},
     "output_type": "execute_result"
    }
   ],
   "source": [
    "df_20_sum.iloc[:,-2:]"
   ]
  },
  {
   "cell_type": "code",
   "execution_count": 49,
   "id": "f528cb89-20f8-4c7a-af3b-abb015ea3fbf",
   "metadata": {},
   "outputs": [
    {
     "data": {
      "text/html": [
       "<div>\n",
       "<style scoped>\n",
       "    .dataframe tbody tr th:only-of-type {\n",
       "        vertical-align: middle;\n",
       "    }\n",
       "\n",
       "    .dataframe tbody tr th {\n",
       "        vertical-align: top;\n",
       "    }\n",
       "\n",
       "    .dataframe thead th {\n",
       "        text-align: right;\n",
       "    }\n",
       "</style>\n",
       "<table border=\"1\" class=\"dataframe\">\n",
       "  <thead>\n",
       "    <tr style=\"text-align: right;\">\n",
       "      <th></th>\n",
       "      <th>Google Ads</th>\n",
       "      <th>Яндекс: Директ</th>\n",
       "      <th>Яндекс.Директ: Не определено</th>\n",
       "      <th>Другая реклама: определено по меткам</th>\n",
       "      <th>остальные</th>\n",
       "    </tr>\n",
       "  </thead>\n",
       "  <tbody>\n",
       "    <tr>\n",
       "      <th>sum</th>\n",
       "      <td>56757</td>\n",
       "      <td>21231</td>\n",
       "      <td>233</td>\n",
       "      <td>26</td>\n",
       "      <td>259</td>\n",
       "    </tr>\n",
       "  </tbody>\n",
       "</table>\n",
       "</div>"
      ],
      "text/plain": [
       "     Google Ads  Яндекс: Директ  Яндекс.Директ: Не определено  \\\n",
       "sum       56757           21231                           233   \n",
       "\n",
       "     Другая реклама: определено по меткам  остальные  \n",
       "sum                                    26        259  "
      ]
     },
     "execution_count": 49,
     "metadata": {},
     "output_type": "execute_result"
    }
   ],
   "source": [
    "df_20_sum['остальные'] = df_20_sum.iloc[:,-2:].sum(axis=1)['sum']\n",
    "df_20_sum"
   ]
  },
  {
   "cell_type": "code",
   "execution_count": 50,
   "id": "f490e739-d4ea-46a5-8779-d4c6b78b7d79",
   "metadata": {},
   "outputs": [
    {
     "data": {
      "text/html": [
       "<div>\n",
       "<style scoped>\n",
       "    .dataframe tbody tr th:only-of-type {\n",
       "        vertical-align: middle;\n",
       "    }\n",
       "\n",
       "    .dataframe tbody tr th {\n",
       "        vertical-align: top;\n",
       "    }\n",
       "\n",
       "    .dataframe thead th {\n",
       "        text-align: right;\n",
       "    }\n",
       "</style>\n",
       "<table border=\"1\" class=\"dataframe\">\n",
       "  <thead>\n",
       "    <tr style=\"text-align: right;\">\n",
       "      <th></th>\n",
       "      <th>sum</th>\n",
       "    </tr>\n",
       "  </thead>\n",
       "  <tbody>\n",
       "    <tr>\n",
       "      <th>Google Ads</th>\n",
       "      <td>56757</td>\n",
       "    </tr>\n",
       "    <tr>\n",
       "      <th>Яндекс: Директ</th>\n",
       "      <td>21231</td>\n",
       "    </tr>\n",
       "  </tbody>\n",
       "</table>\n",
       "</div>"
      ],
      "text/plain": [
       "                  sum\n",
       "Google Ads      56757\n",
       "Яндекс: Директ  21231"
      ]
     },
     "execution_count": 50,
     "metadata": {},
     "output_type": "execute_result"
    }
   ],
   "source": [
    "count_all_2020 = df_20_sum.T.iloc[[0,1],...]\n",
    "count_all_2020"
   ]
  },
  {
   "cell_type": "code",
   "execution_count": 51,
   "id": "62a6606e-8fbe-4018-b387-ae04dfde873a",
   "metadata": {},
   "outputs": [
    {
     "data": {
      "text/html": [
       "<div>\n",
       "<style scoped>\n",
       "    .dataframe tbody tr th:only-of-type {\n",
       "        vertical-align: middle;\n",
       "    }\n",
       "\n",
       "    .dataframe tbody tr th {\n",
       "        vertical-align: top;\n",
       "    }\n",
       "\n",
       "    .dataframe thead th {\n",
       "        text-align: right;\n",
       "    }\n",
       "</style>\n",
       "<table border=\"1\" class=\"dataframe\">\n",
       "  <thead>\n",
       "    <tr style=\"text-align: right;\">\n",
       "      <th></th>\n",
       "      <th>sum</th>\n",
       "    </tr>\n",
       "  </thead>\n",
       "  <tbody>\n",
       "    <tr>\n",
       "      <th>Google Ads</th>\n",
       "      <td>56757</td>\n",
       "    </tr>\n",
       "    <tr>\n",
       "      <th>Яндекс: Директ</th>\n",
       "      <td>21231</td>\n",
       "    </tr>\n",
       "    <tr>\n",
       "      <th>Яндекс.Директ: Не определено</th>\n",
       "      <td>233</td>\n",
       "    </tr>\n",
       "    <tr>\n",
       "      <th>Другая реклама: определено по меткам</th>\n",
       "      <td>26</td>\n",
       "    </tr>\n",
       "    <tr>\n",
       "      <th>остальные</th>\n",
       "      <td>259</td>\n",
       "    </tr>\n",
       "  </tbody>\n",
       "</table>\n",
       "</div>"
      ],
      "text/plain": [
       "                                        sum\n",
       "Google Ads                            56757\n",
       "Яндекс: Директ                        21231\n",
       "Яндекс.Директ: Не определено            233\n",
       "Другая реклама: определено по меткам     26\n",
       "остальные                               259"
      ]
     },
     "execution_count": 51,
     "metadata": {},
     "output_type": "execute_result"
    }
   ],
   "source": [
    "df_20_sum.T"
   ]
  },
  {
   "cell_type": "code",
   "execution_count": 52,
   "id": "ecf8da45-f501-466a-aec4-bc33fa53de3d",
   "metadata": {},
   "outputs": [],
   "source": [
    "import seaborn as sns"
   ]
  },
  {
   "cell_type": "code",
   "execution_count": 53,
   "id": "99509cef-6dae-4779-b138-bcc8756aad0f",
   "metadata": {},
   "outputs": [
    {
     "data": {
      "text/plain": [
       "<Axes: ylabel='Count'>"
      ]
     },
     "execution_count": 53,
     "metadata": {},
     "output_type": "execute_result"
    },
    {
     "data": {
      "image/png": "[encoded data removed]",
      "text/plain": [
       "<Figure size 640x480 with 1 Axes>"
      ]
     },
     "metadata": {},
     "output_type": "display_data"
    }
   ],
   "source": [
    "sns.histplot(df_20_sum, bins=10)"
   ]
  },
  {
   "cell_type": "code",
   "execution_count": 54,
   "id": "517b320b-1408-499e-95f5-aa14eacdda93",
   "metadata": {},
   "outputs": [
    {
     "data": {
      "text/html": [
       "<div>\n",
       "<style scoped>\n",
       "    .dataframe tbody tr th:only-of-type {\n",
       "        vertical-align: middle;\n",
       "    }\n",
       "\n",
       "    .dataframe tbody tr th {\n",
       "        vertical-align: top;\n",
       "    }\n",
       "\n",
       "    .dataframe thead th {\n",
       "        text-align: right;\n",
       "    }\n",
       "</style>\n",
       "<table border=\"1\" class=\"dataframe\">\n",
       "  <thead>\n",
       "    <tr style=\"text-align: right;\">\n",
       "      <th></th>\n",
       "      <th>Google Ads</th>\n",
       "      <th>Яндекс: Директ</th>\n",
       "      <th>Яндекс.Директ: Не определено</th>\n",
       "      <th>Другая реклама: определено по меткам</th>\n",
       "    </tr>\n",
       "    <tr>\n",
       "      <th>Период</th>\n",
       "      <th></th>\n",
       "      <th></th>\n",
       "      <th></th>\n",
       "      <th></th>\n",
       "    </tr>\n",
       "  </thead>\n",
       "  <tbody>\n",
       "    <tr>\n",
       "      <th>2020-01-01</th>\n",
       "      <td>83</td>\n",
       "      <td>0</td>\n",
       "      <td>0</td>\n",
       "      <td>0</td>\n",
       "    </tr>\n",
       "    <tr>\n",
       "      <th>2020-01-02</th>\n",
       "      <td>104</td>\n",
       "      <td>0</td>\n",
       "      <td>0</td>\n",
       "      <td>0</td>\n",
       "    </tr>\n",
       "    <tr>\n",
       "      <th>2020-01-03</th>\n",
       "      <td>98</td>\n",
       "      <td>0</td>\n",
       "      <td>0</td>\n",
       "      <td>0</td>\n",
       "    </tr>\n",
       "    <tr>\n",
       "      <th>2020-01-04</th>\n",
       "      <td>68</td>\n",
       "      <td>0</td>\n",
       "      <td>0</td>\n",
       "      <td>0</td>\n",
       "    </tr>\n",
       "    <tr>\n",
       "      <th>2020-01-05</th>\n",
       "      <td>67</td>\n",
       "      <td>0</td>\n",
       "      <td>0</td>\n",
       "      <td>0</td>\n",
       "    </tr>\n",
       "    <tr>\n",
       "      <th>...</th>\n",
       "      <td>...</td>\n",
       "      <td>...</td>\n",
       "      <td>...</td>\n",
       "      <td>...</td>\n",
       "    </tr>\n",
       "    <tr>\n",
       "      <th>2023-10-21</th>\n",
       "      <td>0</td>\n",
       "      <td>40</td>\n",
       "      <td>0</td>\n",
       "      <td>0</td>\n",
       "    </tr>\n",
       "    <tr>\n",
       "      <th>2023-10-22</th>\n",
       "      <td>0</td>\n",
       "      <td>31</td>\n",
       "      <td>0</td>\n",
       "      <td>0</td>\n",
       "    </tr>\n",
       "    <tr>\n",
       "      <th>2023-10-23</th>\n",
       "      <td>0</td>\n",
       "      <td>57</td>\n",
       "      <td>2</td>\n",
       "      <td>0</td>\n",
       "    </tr>\n",
       "    <tr>\n",
       "      <th>2023-10-24</th>\n",
       "      <td>0</td>\n",
       "      <td>60</td>\n",
       "      <td>0</td>\n",
       "      <td>0</td>\n",
       "    </tr>\n",
       "    <tr>\n",
       "      <th>2023-10-25</th>\n",
       "      <td>0</td>\n",
       "      <td>41</td>\n",
       "      <td>1</td>\n",
       "      <td>0</td>\n",
       "    </tr>\n",
       "  </tbody>\n",
       "</table>\n",
       "<p>1394 rows × 4 columns</p>\n",
       "</div>"
      ],
      "text/plain": [
       "            Google Ads  Яндекс: Директ  Яндекс.Директ: Не определено  \\\n",
       "Период                                                                 \n",
       "2020-01-01          83               0                             0   \n",
       "2020-01-02         104               0                             0   \n",
       "2020-01-03          98               0                             0   \n",
       "2020-01-04          68               0                             0   \n",
       "2020-01-05          67               0                             0   \n",
       "...                ...             ...                           ...   \n",
       "2023-10-21           0              40                             0   \n",
       "2023-10-22           0              31                             0   \n",
       "2023-10-23           0              57                             2   \n",
       "2023-10-24           0              60                             0   \n",
       "2023-10-25           0              41                             1   \n",
       "\n",
       "            Другая реклама: определено по меткам  \n",
       "Период                                            \n",
       "2020-01-01                                     0  \n",
       "2020-01-02                                     0  \n",
       "2020-01-03                                     0  \n",
       "2020-01-04                                     0  \n",
       "2020-01-05                                     0  \n",
       "...                                          ...  \n",
       "2023-10-21                                     0  \n",
       "2023-10-22                                     0  \n",
       "2023-10-23                                     0  \n",
       "2023-10-24                                     0  \n",
       "2023-10-25                                     0  \n",
       "\n",
       "[1394 rows x 4 columns]"
      ]
     },
     "execution_count": 54,
     "metadata": {},
     "output_type": "execute_result"
    }
   ],
   "source": [
    "df_20_new = pd.DataFrame(df_20)\n",
    "df_20_new"
   ]
  },
  {
   "cell_type": "code",
   "execution_count": 55,
   "id": "b579d313-e3f4-4296-a454-dae36a848af3",
   "metadata": {},
   "outputs": [
    {
     "data": {
      "text/plain": [
       "array([[56757],\n",
       "       [21231]], dtype=int64)"
      ]
     },
     "execution_count": 55,
     "metadata": {},
     "output_type": "execute_result"
    }
   ],
   "source": [
    "count_all_2020.values"
   ]
  },
  {
   "cell_type": "code",
   "execution_count": 56,
   "id": "27981504-5c61-4a53-b1ea-53fe2a1487cf",
   "metadata": {},
   "outputs": [
    {
     "data": {
      "text/html": [
       "<div>\n",
       "<style scoped>\n",
       "    .dataframe tbody tr th:only-of-type {\n",
       "        vertical-align: middle;\n",
       "    }\n",
       "\n",
       "    .dataframe tbody tr th {\n",
       "        vertical-align: top;\n",
       "    }\n",
       "\n",
       "    .dataframe thead th {\n",
       "        text-align: right;\n",
       "    }\n",
       "</style>\n",
       "<table border=\"1\" class=\"dataframe\">\n",
       "  <thead>\n",
       "    <tr style=\"text-align: right;\">\n",
       "      <th></th>\n",
       "      <th>sum</th>\n",
       "    </tr>\n",
       "  </thead>\n",
       "  <tbody>\n",
       "    <tr>\n",
       "      <th>Google Ads</th>\n",
       "      <td>56757</td>\n",
       "    </tr>\n",
       "    <tr>\n",
       "      <th>Яндекс: Директ</th>\n",
       "      <td>21231</td>\n",
       "    </tr>\n",
       "  </tbody>\n",
       "</table>\n",
       "</div>"
      ],
      "text/plain": [
       "                  sum\n",
       "Google Ads      56757\n",
       "Яндекс: Директ  21231"
      ]
     },
     "execution_count": 56,
     "metadata": {},
     "output_type": "execute_result"
    }
   ],
   "source": [
    "count_all_2020"
   ]
  },
  {
   "cell_type": "code",
   "execution_count": 57,
   "id": "9cc4df70-e4dc-42d5-ae0a-d8e968cc4ce6",
   "metadata": {},
   "outputs": [
    {
     "data": {
      "text/html": [
       "<div>\n",
       "<style scoped>\n",
       "    .dataframe tbody tr th:only-of-type {\n",
       "        vertical-align: middle;\n",
       "    }\n",
       "\n",
       "    .dataframe tbody tr th {\n",
       "        vertical-align: top;\n",
       "    }\n",
       "\n",
       "    .dataframe thead th {\n",
       "        text-align: right;\n",
       "    }\n",
       "</style>\n",
       "<table border=\"1\" class=\"dataframe\">\n",
       "  <thead>\n",
       "    <tr style=\"text-align: right;\">\n",
       "      <th></th>\n",
       "      <th>sum</th>\n",
       "    </tr>\n",
       "  </thead>\n",
       "  <tbody>\n",
       "    <tr>\n",
       "      <th>Google Ads</th>\n",
       "      <td>56757</td>\n",
       "    </tr>\n",
       "    <tr>\n",
       "      <th>Яндекс: Директ</th>\n",
       "      <td>21231</td>\n",
       "    </tr>\n",
       "    <tr>\n",
       "      <th>Яндекс.Директ: Не определено</th>\n",
       "      <td>233</td>\n",
       "    </tr>\n",
       "    <tr>\n",
       "      <th>Другая реклама: определено по меткам</th>\n",
       "      <td>26</td>\n",
       "    </tr>\n",
       "    <tr>\n",
       "      <th>остальные</th>\n",
       "      <td>259</td>\n",
       "    </tr>\n",
       "  </tbody>\n",
       "</table>\n",
       "</div>"
      ],
      "text/plain": [
       "                                        sum\n",
       "Google Ads                            56757\n",
       "Яндекс: Директ                        21231\n",
       "Яндекс.Директ: Не определено            233\n",
       "Другая реклама: определено по меткам     26\n",
       "остальные                               259"
      ]
     },
     "execution_count": 57,
     "metadata": {},
     "output_type": "execute_result"
    }
   ],
   "source": [
    "df_20_sum.T"
   ]
  },
  {
   "cell_type": "code",
   "execution_count": 58,
   "id": "895d3000-b295-4dca-9fc8-d879a75dd33d",
   "metadata": {},
   "outputs": [
    {
     "data": {
      "text/html": [
       "<div>\n",
       "<style scoped>\n",
       "    .dataframe tbody tr th:only-of-type {\n",
       "        vertical-align: middle;\n",
       "    }\n",
       "\n",
       "    .dataframe tbody tr th {\n",
       "        vertical-align: top;\n",
       "    }\n",
       "\n",
       "    .dataframe thead th {\n",
       "        text-align: right;\n",
       "    }\n",
       "</style>\n",
       "<table border=\"1\" class=\"dataframe\">\n",
       "  <thead>\n",
       "    <tr style=\"text-align: right;\">\n",
       "      <th></th>\n",
       "      <th>sum</th>\n",
       "    </tr>\n",
       "  </thead>\n",
       "  <tbody>\n",
       "    <tr>\n",
       "      <th>Google Ads</th>\n",
       "      <td>56757</td>\n",
       "    </tr>\n",
       "    <tr>\n",
       "      <th>Яндекс: Директ</th>\n",
       "      <td>21231</td>\n",
       "    </tr>\n",
       "    <tr>\n",
       "      <th>остальные</th>\n",
       "      <td>259</td>\n",
       "    </tr>\n",
       "  </tbody>\n",
       "</table>\n",
       "</div>"
      ],
      "text/plain": [
       "                  sum\n",
       "Google Ads      56757\n",
       "Яндекс: Директ  21231\n",
       "остальные         259"
      ]
     },
     "execution_count": 58,
     "metadata": {},
     "output_type": "execute_result"
    }
   ],
   "source": [
    "df_20_sum_3adds = df_20_sum.T.iloc[[0,1,4],...]\n",
    "df_20_sum_3adds"
   ]
  },
  {
   "cell_type": "code",
   "execution_count": 59,
   "id": "12f03de8-c7ea-4a22-92c4-ffa1f0922f06",
   "metadata": {},
   "outputs": [
    {
     "data": {
      "image/png": "[encoded data removed]",
      "text/plain": [
       "<Figure size 640x480 with 1 Axes>"
      ]
     },
     "metadata": {},
     "output_type": "display_data"
    }
   ],
   "source": [
    "mycolors_ = ['plum', 'lightsteelblue', 'aquamarine']\n",
    "plt.pie(df_20_sum_3adds['sum'], autopct=lambda x:f'{int(x*10)/10}%', labels=df_20_sum_3adds.index, colors =  mycolors_)\n",
    "plt.title('Сравнительный анализ визитов по всем сайтам за период с 01.01.2020г по 25.10.2023г.', color = \"\")\n",
    "plt.legend(title = 'Визиты на сайт с поисковых систем.', loc='upper left', bbox_to_anchor=(1.0, 1.0))\n",
    "plt.savefig('Визиты на сайт с поисковых систем за период с 01.01.2020г по 25.10.2023г.jpg') \n",
    "plt.show()"
   ]
  },
  {
   "cell_type": "code",
   "execution_count": null,
   "id": "8c5af28c-fee6-4684-baef-a0d5a0d7b257",
   "metadata": {},
   "outputs": [],
   "source": []
  }
 ],
 "metadata": {
  "kernelspec": {
   "display_name": "Python 3 (ipykernel)",
   "language": "python",
   "name": "python3"
  },
  "language_info": {
   "codemirror_mode": {
    "name": "ipython",
    "version": 3
   },
   "file_extension": ".py",
   "mimetype": "text/x-python",
   "name": "python",
   "nbconvert_exporter": "python",
   "pygments_lexer": "ipython3",
   "version": "3.11.4"
  }
 },
 "nbformat": 4,
 "nbformat_minor": 5
}
